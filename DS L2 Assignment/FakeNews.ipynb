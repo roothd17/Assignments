{
 "cells": [
  {
   "cell_type": "code",
   "execution_count": 1,
   "metadata": {},
   "outputs": [],
   "source": [
    "import os\n",
    "\n",
    "os.chdir('E:\\Datasets')"
   ]
  },
  {
   "cell_type": "markdown",
   "metadata": {},
   "source": [
    "## 3. Fake news detection using Pandas and Statsmodels\n",
    "\n",
    "We use both fake news and real news as training inputs to our TFIDF (Term Frequency and Inverse Document Frequency) features for creating a classifier. Then a regular test set is given as input and the classifier to detect if it is fake news or real news"
   ]
  },
  {
   "cell_type": "code",
   "execution_count": 2,
   "metadata": {},
   "outputs": [
    {
     "name": "stdout",
     "output_type": "stream",
     "text": [
      "(12999, 20)\n"
     ]
    },
    {
     "data": {
      "text/html": [
       "<div>\n",
       "<style scoped>\n",
       "    .dataframe tbody tr th:only-of-type {\n",
       "        vertical-align: middle;\n",
       "    }\n",
       "\n",
       "    .dataframe tbody tr th {\n",
       "        vertical-align: top;\n",
       "    }\n",
       "\n",
       "    .dataframe thead th {\n",
       "        text-align: right;\n",
       "    }\n",
       "</style>\n",
       "<table border=\"1\" class=\"dataframe\">\n",
       "  <thead>\n",
       "    <tr style=\"text-align: right;\">\n",
       "      <th></th>\n",
       "      <th>uuid</th>\n",
       "      <th>ord_in_thread</th>\n",
       "      <th>author</th>\n",
       "      <th>published</th>\n",
       "      <th>title</th>\n",
       "      <th>text</th>\n",
       "      <th>language</th>\n",
       "      <th>crawled</th>\n",
       "      <th>site_url</th>\n",
       "      <th>country</th>\n",
       "      <th>domain_rank</th>\n",
       "      <th>thread_title</th>\n",
       "      <th>spam_score</th>\n",
       "      <th>main_img_url</th>\n",
       "      <th>replies_count</th>\n",
       "      <th>participants_count</th>\n",
       "      <th>likes</th>\n",
       "      <th>comments</th>\n",
       "      <th>shares</th>\n",
       "      <th>type</th>\n",
       "    </tr>\n",
       "  </thead>\n",
       "  <tbody>\n",
       "    <tr>\n",
       "      <th>0</th>\n",
       "      <td>6a175f46bcd24d39b3e962ad0f29936721db70db</td>\n",
       "      <td>0</td>\n",
       "      <td>Barracuda Brigade</td>\n",
       "      <td>2016-10-26T21:41:00.000+03:00</td>\n",
       "      <td>Muslims BUSTED: They Stole Millions In Gov’t B...</td>\n",
       "      <td>Print They should pay all the back all the mon...</td>\n",
       "      <td>english</td>\n",
       "      <td>2016-10-27T01:49:27.168+03:00</td>\n",
       "      <td>100percentfedup.com</td>\n",
       "      <td>US</td>\n",
       "      <td>25689.0</td>\n",
       "      <td>Muslims BUSTED: They Stole Millions In Gov’t B...</td>\n",
       "      <td>0.000</td>\n",
       "      <td>http://bb4sp.com/wp-content/uploads/2016/10/Fu...</td>\n",
       "      <td>0</td>\n",
       "      <td>1</td>\n",
       "      <td>0</td>\n",
       "      <td>0</td>\n",
       "      <td>0</td>\n",
       "      <td>bias</td>\n",
       "    </tr>\n",
       "    <tr>\n",
       "      <th>1</th>\n",
       "      <td>2bdc29d12605ef9cf3f09f9875040a7113be5d5b</td>\n",
       "      <td>0</td>\n",
       "      <td>reasoning with facts</td>\n",
       "      <td>2016-10-29T08:47:11.259+03:00</td>\n",
       "      <td>Re: Why Did Attorney General Loretta Lynch Ple...</td>\n",
       "      <td>Why Did Attorney General Loretta Lynch Plead T...</td>\n",
       "      <td>english</td>\n",
       "      <td>2016-10-29T08:47:11.259+03:00</td>\n",
       "      <td>100percentfedup.com</td>\n",
       "      <td>US</td>\n",
       "      <td>25689.0</td>\n",
       "      <td>Re: Why Did Attorney General Loretta Lynch Ple...</td>\n",
       "      <td>0.000</td>\n",
       "      <td>http://bb4sp.com/wp-content/uploads/2016/10/Fu...</td>\n",
       "      <td>0</td>\n",
       "      <td>1</td>\n",
       "      <td>0</td>\n",
       "      <td>0</td>\n",
       "      <td>0</td>\n",
       "      <td>bias</td>\n",
       "    </tr>\n",
       "    <tr>\n",
       "      <th>2</th>\n",
       "      <td>c70e149fdd53de5e61c29281100b9de0ed268bc3</td>\n",
       "      <td>0</td>\n",
       "      <td>Barracuda Brigade</td>\n",
       "      <td>2016-10-31T01:41:49.479+02:00</td>\n",
       "      <td>BREAKING: Weiner Cooperating With FBI On Hilla...</td>\n",
       "      <td>Red State : \\nFox News Sunday reported this mo...</td>\n",
       "      <td>english</td>\n",
       "      <td>2016-10-31T01:41:49.479+02:00</td>\n",
       "      <td>100percentfedup.com</td>\n",
       "      <td>US</td>\n",
       "      <td>25689.0</td>\n",
       "      <td>BREAKING: Weiner Cooperating With FBI On Hilla...</td>\n",
       "      <td>0.000</td>\n",
       "      <td>http://bb4sp.com/wp-content/uploads/2016/10/Fu...</td>\n",
       "      <td>0</td>\n",
       "      <td>1</td>\n",
       "      <td>0</td>\n",
       "      <td>0</td>\n",
       "      <td>0</td>\n",
       "      <td>bias</td>\n",
       "    </tr>\n",
       "    <tr>\n",
       "      <th>3</th>\n",
       "      <td>7cf7c15731ac2a116dd7f629bd57ea468ed70284</td>\n",
       "      <td>0</td>\n",
       "      <td>Fed Up</td>\n",
       "      <td>2016-11-01T05:22:00.000+02:00</td>\n",
       "      <td>PIN DROP SPEECH BY FATHER OF DAUGHTER Kidnappe...</td>\n",
       "      <td>Email Kayla Mueller was a prisoner and torture...</td>\n",
       "      <td>english</td>\n",
       "      <td>2016-11-01T15:46:26.304+02:00</td>\n",
       "      <td>100percentfedup.com</td>\n",
       "      <td>US</td>\n",
       "      <td>25689.0</td>\n",
       "      <td>PIN DROP SPEECH BY FATHER OF DAUGHTER Kidnappe...</td>\n",
       "      <td>0.068</td>\n",
       "      <td>http://100percentfedup.com/wp-content/uploads/...</td>\n",
       "      <td>0</td>\n",
       "      <td>0</td>\n",
       "      <td>0</td>\n",
       "      <td>0</td>\n",
       "      <td>0</td>\n",
       "      <td>bias</td>\n",
       "    </tr>\n",
       "    <tr>\n",
       "      <th>4</th>\n",
       "      <td>0206b54719c7e241ffe0ad4315b808290dbe6c0f</td>\n",
       "      <td>0</td>\n",
       "      <td>Fed Up</td>\n",
       "      <td>2016-11-01T21:56:00.000+02:00</td>\n",
       "      <td>FANTASTIC! TRUMP'S 7 POINT PLAN To Reform Heal...</td>\n",
       "      <td>Email HEALTHCARE REFORM TO MAKE AMERICA GREAT ...</td>\n",
       "      <td>english</td>\n",
       "      <td>2016-11-01T23:59:42.266+02:00</td>\n",
       "      <td>100percentfedup.com</td>\n",
       "      <td>US</td>\n",
       "      <td>25689.0</td>\n",
       "      <td>FANTASTIC! TRUMP'S 7 POINT PLAN To Reform Heal...</td>\n",
       "      <td>0.865</td>\n",
       "      <td>http://100percentfedup.com/wp-content/uploads/...</td>\n",
       "      <td>0</td>\n",
       "      <td>0</td>\n",
       "      <td>0</td>\n",
       "      <td>0</td>\n",
       "      <td>0</td>\n",
       "      <td>bias</td>\n",
       "    </tr>\n",
       "  </tbody>\n",
       "</table>\n",
       "</div>"
      ],
      "text/plain": [
       "                                       uuid  ord_in_thread  \\\n",
       "0  6a175f46bcd24d39b3e962ad0f29936721db70db              0   \n",
       "1  2bdc29d12605ef9cf3f09f9875040a7113be5d5b              0   \n",
       "2  c70e149fdd53de5e61c29281100b9de0ed268bc3              0   \n",
       "3  7cf7c15731ac2a116dd7f629bd57ea468ed70284              0   \n",
       "4  0206b54719c7e241ffe0ad4315b808290dbe6c0f              0   \n",
       "\n",
       "                 author                      published  \\\n",
       "0     Barracuda Brigade  2016-10-26T21:41:00.000+03:00   \n",
       "1  reasoning with facts  2016-10-29T08:47:11.259+03:00   \n",
       "2     Barracuda Brigade  2016-10-31T01:41:49.479+02:00   \n",
       "3                Fed Up  2016-11-01T05:22:00.000+02:00   \n",
       "4                Fed Up  2016-11-01T21:56:00.000+02:00   \n",
       "\n",
       "                                               title  \\\n",
       "0  Muslims BUSTED: They Stole Millions In Gov’t B...   \n",
       "1  Re: Why Did Attorney General Loretta Lynch Ple...   \n",
       "2  BREAKING: Weiner Cooperating With FBI On Hilla...   \n",
       "3  PIN DROP SPEECH BY FATHER OF DAUGHTER Kidnappe...   \n",
       "4  FANTASTIC! TRUMP'S 7 POINT PLAN To Reform Heal...   \n",
       "\n",
       "                                                text language  \\\n",
       "0  Print They should pay all the back all the mon...  english   \n",
       "1  Why Did Attorney General Loretta Lynch Plead T...  english   \n",
       "2  Red State : \\nFox News Sunday reported this mo...  english   \n",
       "3  Email Kayla Mueller was a prisoner and torture...  english   \n",
       "4  Email HEALTHCARE REFORM TO MAKE AMERICA GREAT ...  english   \n",
       "\n",
       "                         crawled             site_url country  domain_rank  \\\n",
       "0  2016-10-27T01:49:27.168+03:00  100percentfedup.com      US      25689.0   \n",
       "1  2016-10-29T08:47:11.259+03:00  100percentfedup.com      US      25689.0   \n",
       "2  2016-10-31T01:41:49.479+02:00  100percentfedup.com      US      25689.0   \n",
       "3  2016-11-01T15:46:26.304+02:00  100percentfedup.com      US      25689.0   \n",
       "4  2016-11-01T23:59:42.266+02:00  100percentfedup.com      US      25689.0   \n",
       "\n",
       "                                        thread_title  spam_score  \\\n",
       "0  Muslims BUSTED: They Stole Millions In Gov’t B...       0.000   \n",
       "1  Re: Why Did Attorney General Loretta Lynch Ple...       0.000   \n",
       "2  BREAKING: Weiner Cooperating With FBI On Hilla...       0.000   \n",
       "3  PIN DROP SPEECH BY FATHER OF DAUGHTER Kidnappe...       0.068   \n",
       "4  FANTASTIC! TRUMP'S 7 POINT PLAN To Reform Heal...       0.865   \n",
       "\n",
       "                                        main_img_url  replies_count  \\\n",
       "0  http://bb4sp.com/wp-content/uploads/2016/10/Fu...              0   \n",
       "1  http://bb4sp.com/wp-content/uploads/2016/10/Fu...              0   \n",
       "2  http://bb4sp.com/wp-content/uploads/2016/10/Fu...              0   \n",
       "3  http://100percentfedup.com/wp-content/uploads/...              0   \n",
       "4  http://100percentfedup.com/wp-content/uploads/...              0   \n",
       "\n",
       "   participants_count  likes  comments  shares  type  \n",
       "0                   1      0         0       0  bias  \n",
       "1                   1      0         0       0  bias  \n",
       "2                   1      0         0       0  bias  \n",
       "3                   0      0         0       0  bias  \n",
       "4                   0      0         0       0  bias  "
      ]
     },
     "execution_count": 2,
     "metadata": {},
     "output_type": "execute_result"
    }
   ],
   "source": [
    "import pandas as pd\n",
    "\n",
    "news = pd.read_csv('fakenews.csv')\n",
    "print( news.shape )\n",
    "news.head()"
   ]
  },
  {
   "cell_type": "code",
   "execution_count": 3,
   "metadata": {},
   "outputs": [
    {
     "data": {
      "text/plain": [
       "bs            11492\n",
       "bias            443\n",
       "conspiracy      430\n",
       "hate            246\n",
       "satire          146\n",
       "state           121\n",
       "junksci         102\n",
       "fake             19\n",
       "Name: type, dtype: int64"
      ]
     },
     "execution_count": 3,
     "metadata": {},
     "output_type": "execute_result"
    }
   ],
   "source": [
    "news.type.value_counts()"
   ]
  },
  {
   "cell_type": "markdown",
   "metadata": {},
   "source": [
    "Only 19 Fake news rest all are real news of different genre\n",
    "\n",
    "Highly Imbalanced dataset"
   ]
  },
  {
   "cell_type": "code",
   "execution_count": 4,
   "metadata": {},
   "outputs": [
    {
     "name": "stdout",
     "output_type": "stream",
     "text": [
      "<class 'pandas.core.frame.DataFrame'>\n",
      "RangeIndex: 12999 entries, 0 to 12998\n",
      "Data columns (total 20 columns):\n",
      " #   Column              Non-Null Count  Dtype  \n",
      "---  ------              --------------  -----  \n",
      " 0   uuid                12999 non-null  object \n",
      " 1   ord_in_thread       12999 non-null  int64  \n",
      " 2   author              10575 non-null  object \n",
      " 3   published           12999 non-null  object \n",
      " 4   title               12319 non-null  object \n",
      " 5   text                12953 non-null  object \n",
      " 6   language            12999 non-null  object \n",
      " 7   crawled             12999 non-null  object \n",
      " 8   site_url            12999 non-null  object \n",
      " 9   country             12823 non-null  object \n",
      " 10  domain_rank         8776 non-null   float64\n",
      " 11  thread_title        12987 non-null  object \n",
      " 12  spam_score          12999 non-null  float64\n",
      " 13  main_img_url        9356 non-null   object \n",
      " 14  replies_count       12999 non-null  int64  \n",
      " 15  participants_count  12999 non-null  int64  \n",
      " 16  likes               12999 non-null  int64  \n",
      " 17  comments            12999 non-null  int64  \n",
      " 18  shares              12999 non-null  int64  \n",
      " 19  type                12999 non-null  object \n",
      "dtypes: float64(2), int64(6), object(12)\n",
      "memory usage: 2.0+ MB\n"
     ]
    }
   ],
   "source": [
    "news.info()"
   ]
  },
  {
   "cell_type": "code",
   "execution_count": 5,
   "metadata": {},
   "outputs": [
    {
     "data": {
      "text/plain": [
       "politicususa.com         100\n",
       "ihavethetruth.com        100\n",
       "trunews.com              100\n",
       "pravda.ru                100\n",
       "humansarefree.com        100\n",
       "                        ... \n",
       "vonpress.com               1\n",
       "allnewspipeline.com        1\n",
       "defenddemocracy.press      1\n",
       "globalresearch.ca          1\n",
       "ufoholic.com               1\n",
       "Name: site_url, Length: 244, dtype: int64"
      ]
     },
     "execution_count": 5,
     "metadata": {},
     "output_type": "execute_result"
    }
   ],
   "source": [
    "news.site_url.value_counts()"
   ]
  },
  {
   "cell_type": "code",
   "execution_count": 6,
   "metadata": {},
   "outputs": [
    {
     "data": {
      "text/plain": [
       "english       12403\n",
       "russian         203\n",
       "spanish         172\n",
       "german          111\n",
       "french           38\n",
       "arabic           22\n",
       "portuguese       11\n",
       "turkish          10\n",
       "italian           9\n",
       "ignore            7\n",
       "greek             4\n",
       "norwegian         3\n",
       "dutch             3\n",
       "polish            1\n",
       "finnish           1\n",
       "chinese           1\n",
       "Name: language, dtype: int64"
      ]
     },
     "execution_count": 6,
     "metadata": {},
     "output_type": "execute_result"
    }
   ],
   "source": [
    "news.language.value_counts()"
   ]
  },
  {
   "cell_type": "code",
   "execution_count": 7,
   "metadata": {},
   "outputs": [
    {
     "data": {
      "text/plain": [
       "34811.0    100\n",
       "33221.0    100\n",
       "30890.0    100\n",
       "63847.0    100\n",
       "14170.0    100\n",
       "          ... \n",
       "21114.0      1\n",
       "16994.0      1\n",
       "78345.0      1\n",
       "42575.0      1\n",
       "49688.0      1\n",
       "Name: domain_rank, Length: 133, dtype: int64"
      ]
     },
     "execution_count": 7,
     "metadata": {},
     "output_type": "execute_result"
    }
   ],
   "source": [
    "news.domain_rank.value_counts()"
   ]
  },
  {
   "cell_type": "code",
   "execution_count": null,
   "metadata": {},
   "outputs": [],
   "source": []
  },
  {
   "cell_type": "code",
   "execution_count": 8,
   "metadata": {},
   "outputs": [
    {
     "data": {
      "text/plain": [
       "True"
      ]
     },
     "execution_count": 8,
     "metadata": {},
     "output_type": "execute_result"
    }
   ],
   "source": [
    "news.title[0] == news.thread_title[0]"
   ]
  },
  {
   "cell_type": "code",
   "execution_count": 9,
   "metadata": {},
   "outputs": [
    {
     "name": "stdout",
     "output_type": "stream",
     "text": [
      "Re: Why Did Attorney General Loretta Lynch Plead The Fifth?\n",
      "Re: Why Did Attorney General Loretta Lynch Plead The Fifth?\n"
     ]
    }
   ],
   "source": [
    "print( news.title[1] )\n",
    "print( news.thread_title[1] )\n"
   ]
  },
  {
   "cell_type": "code",
   "execution_count": 10,
   "metadata": {},
   "outputs": [
    {
     "name": "stdout",
     "output_type": "stream",
     "text": [
      "Print They should pay all the back all the money plus interest. The entire family and everyone who came in with them need to be deported asap. Why did it take two years to bust them? \n",
      "Here we go again …another group stealing from the government and taxpayers! A group of Somalis stole over four million in government benefits over just 10 months! \n",
      "We’ve reported on numerous cases like this one where the Muslim refugees/immigrants commit fraud by scamming our system…It’s way out of control! More Related \n",
      "\n",
      "Mark Cuban has made no secret of his dislike for Trump and his love for Crooked Hillary. Watch him tell FOX News’ Neil Cavuto (at 5:38 mark), “If Donald wins, I have no doubt the market tanks!” Well, that’s not exactly what happened now is it Cuban? So here’s what really happened: \n",
      "Market Watch – U.S. stocks rallied Wednesday, with the Dow industrials jumping 257 points, led by a surge in financial, health-care and industrial stocks, as investors bet on the infrastructure spending policy promised by President-elect Donald Trump. \n",
      "The Dow Jones Industrial Average DJIA, +1.40% gained as much as 316 points, briefly surpassing the all-time closing high set in August. The index closed 256.95 points, or 1.4%, higher at 18,589.69, its highest level since Aug. 18. Pfizer Inc. PFE, +7.07% and Caterpillar Inc CAT, +7.70% led the gains, rallying more than 7%. Way to go Cuban…you just reminded us of how little you know about economics or choosing the right candidate for President… Hope that loss didn’t cost you too much Cuban…Cheers! 46.4K shares  \n",
      "\n",
      "ERB Trump vs Clinton is finally here! page: 1 link If you're an avid ERB fan like me and 75% of the Internet, then you'll be very happy to know that Nice Peter and Epic Lloyd have finally delivered the highly anticipated Trump vs Clinton rap battle! We all knew it had to happen sooner or later. My guess that it would drop shortly after the final debate turned out to be true! Here it is in all its glory: ** CONTAINS STRONG LANGUAGE ** While you're at it, may as well check out the Romney vs Obama video from 2012: edit on 27-10-2016 by SoulOfCeres because: Formatting\n"
     ]
    }
   ],
   "source": [
    "print( news.text[0],'\\n' )\n",
    "print( news.text[20], '\\n' )\n",
    "print( news.text[200] )"
   ]
  },
  {
   "cell_type": "code",
   "execution_count": 11,
   "metadata": {},
   "outputs": [
    {
     "data": {
      "text/plain": [
       "0     12328\n",
       "1       113\n",
       "2        68\n",
       "3        52\n",
       "4        39\n",
       "      ...  \n",
       "45        1\n",
       "53        1\n",
       "61        1\n",
       "89        1\n",
       "83        1\n",
       "Name: ord_in_thread, Length: 100, dtype: int64"
      ]
     },
     "execution_count": 11,
     "metadata": {},
     "output_type": "execute_result"
    }
   ],
   "source": [
    "news.ord_in_thread.value_counts()"
   ]
  },
  {
   "cell_type": "code",
   "execution_count": 12,
   "metadata": {},
   "outputs": [
    {
     "name": "stdout",
     "output_type": "stream",
     "text": [
      "Distribution of Features and Label\n"
     ]
    },
    {
     "data": {
      "image/png": "[encoded data removed]",
      "text/plain": [
       "<Figure size 1080x1224 with 8 Axes>"
      ]
     },
     "metadata": {
      "needs_background": "light"
     },
     "output_type": "display_data"
    }
   ],
   "source": [
    "news.plot(kind='density', subplots=True, figsize=(15,17), layout=(4,2), sharex=False, sharey=False)\n",
    "print('Distribution of Features and Label')"
   ]
  },
  {
   "cell_type": "code",
   "execution_count": 13,
   "metadata": {},
   "outputs": [
    {
     "data": {
      "text/html": [
       "<div>\n",
       "<style scoped>\n",
       "    .dataframe tbody tr th:only-of-type {\n",
       "        vertical-align: middle;\n",
       "    }\n",
       "\n",
       "    .dataframe tbody tr th {\n",
       "        vertical-align: top;\n",
       "    }\n",
       "\n",
       "    .dataframe thead th {\n",
       "        text-align: right;\n",
       "    }\n",
       "</style>\n",
       "<table border=\"1\" class=\"dataframe\">\n",
       "  <thead>\n",
       "    <tr style=\"text-align: right;\">\n",
       "      <th></th>\n",
       "      <th>ord_in_thread</th>\n",
       "      <th>domain_rank</th>\n",
       "      <th>spam_score</th>\n",
       "      <th>replies_count</th>\n",
       "      <th>participants_count</th>\n",
       "      <th>likes</th>\n",
       "      <th>comments</th>\n",
       "      <th>shares</th>\n",
       "    </tr>\n",
       "  </thead>\n",
       "  <tbody>\n",
       "    <tr>\n",
       "      <th>count</th>\n",
       "      <td>12999.000000</td>\n",
       "      <td>8776.000000</td>\n",
       "      <td>12999.000000</td>\n",
       "      <td>12999.000000</td>\n",
       "      <td>12999.000000</td>\n",
       "      <td>12999.000000</td>\n",
       "      <td>12999.000000</td>\n",
       "      <td>12999.000000</td>\n",
       "    </tr>\n",
       "    <tr>\n",
       "      <th>mean</th>\n",
       "      <td>0.891530</td>\n",
       "      <td>38092.996582</td>\n",
       "      <td>0.026122</td>\n",
       "      <td>1.383183</td>\n",
       "      <td>1.727518</td>\n",
       "      <td>10.831833</td>\n",
       "      <td>0.038311</td>\n",
       "      <td>10.831833</td>\n",
       "    </tr>\n",
       "    <tr>\n",
       "      <th>std</th>\n",
       "      <td>6.486822</td>\n",
       "      <td>26825.487454</td>\n",
       "      <td>0.122889</td>\n",
       "      <td>9.656838</td>\n",
       "      <td>6.884239</td>\n",
       "      <td>79.798949</td>\n",
       "      <td>0.827335</td>\n",
       "      <td>79.798949</td>\n",
       "    </tr>\n",
       "    <tr>\n",
       "      <th>min</th>\n",
       "      <td>0.000000</td>\n",
       "      <td>486.000000</td>\n",
       "      <td>0.000000</td>\n",
       "      <td>0.000000</td>\n",
       "      <td>0.000000</td>\n",
       "      <td>0.000000</td>\n",
       "      <td>0.000000</td>\n",
       "      <td>0.000000</td>\n",
       "    </tr>\n",
       "    <tr>\n",
       "      <th>25%</th>\n",
       "      <td>0.000000</td>\n",
       "      <td>17423.000000</td>\n",
       "      <td>0.000000</td>\n",
       "      <td>0.000000</td>\n",
       "      <td>1.000000</td>\n",
       "      <td>0.000000</td>\n",
       "      <td>0.000000</td>\n",
       "      <td>0.000000</td>\n",
       "    </tr>\n",
       "    <tr>\n",
       "      <th>50%</th>\n",
       "      <td>0.000000</td>\n",
       "      <td>34478.000000</td>\n",
       "      <td>0.000000</td>\n",
       "      <td>0.000000</td>\n",
       "      <td>1.000000</td>\n",
       "      <td>0.000000</td>\n",
       "      <td>0.000000</td>\n",
       "      <td>0.000000</td>\n",
       "    </tr>\n",
       "    <tr>\n",
       "      <th>75%</th>\n",
       "      <td>0.000000</td>\n",
       "      <td>60570.000000</td>\n",
       "      <td>0.000000</td>\n",
       "      <td>0.000000</td>\n",
       "      <td>1.000000</td>\n",
       "      <td>0.000000</td>\n",
       "      <td>0.000000</td>\n",
       "      <td>0.000000</td>\n",
       "    </tr>\n",
       "    <tr>\n",
       "      <th>max</th>\n",
       "      <td>100.000000</td>\n",
       "      <td>98679.000000</td>\n",
       "      <td>1.000000</td>\n",
       "      <td>309.000000</td>\n",
       "      <td>240.000000</td>\n",
       "      <td>988.000000</td>\n",
       "      <td>65.000000</td>\n",
       "      <td>988.000000</td>\n",
       "    </tr>\n",
       "  </tbody>\n",
       "</table>\n",
       "</div>"
      ],
      "text/plain": [
       "       ord_in_thread   domain_rank    spam_score  replies_count  \\\n",
       "count   12999.000000   8776.000000  12999.000000   12999.000000   \n",
       "mean        0.891530  38092.996582      0.026122       1.383183   \n",
       "std         6.486822  26825.487454      0.122889       9.656838   \n",
       "min         0.000000    486.000000      0.000000       0.000000   \n",
       "25%         0.000000  17423.000000      0.000000       0.000000   \n",
       "50%         0.000000  34478.000000      0.000000       0.000000   \n",
       "75%         0.000000  60570.000000      0.000000       0.000000   \n",
       "max       100.000000  98679.000000      1.000000     309.000000   \n",
       "\n",
       "       participants_count         likes      comments        shares  \n",
       "count        12999.000000  12999.000000  12999.000000  12999.000000  \n",
       "mean             1.727518     10.831833      0.038311     10.831833  \n",
       "std              6.884239     79.798949      0.827335     79.798949  \n",
       "min              0.000000      0.000000      0.000000      0.000000  \n",
       "25%              1.000000      0.000000      0.000000      0.000000  \n",
       "50%              1.000000      0.000000      0.000000      0.000000  \n",
       "75%              1.000000      0.000000      0.000000      0.000000  \n",
       "max            240.000000    988.000000     65.000000    988.000000  "
      ]
     },
     "execution_count": 13,
     "metadata": {},
     "output_type": "execute_result"
    }
   ],
   "source": [
    "news.describe()"
   ]
  },
  {
   "cell_type": "code",
   "execution_count": 14,
   "metadata": {},
   "outputs": [
    {
     "data": {
      "text/plain": [
       "(12403, 20)"
      ]
     },
     "execution_count": 14,
     "metadata": {},
     "output_type": "execute_result"
    }
   ],
   "source": [
    "newsEng = news[ news['language'] == 'english'] \n",
    "newsEng.shape"
   ]
  },
  {
   "cell_type": "code",
   "execution_count": 15,
   "metadata": {},
   "outputs": [],
   "source": [
    "sdata = newsEng.sort_values('published', axis=0, ascending=True )   # sort_values is present in Pandas"
   ]
  },
  {
   "cell_type": "code",
   "execution_count": 16,
   "metadata": {},
   "outputs": [
    {
     "data": {
      "text/plain": [
       "(11885, 20)"
      ]
     },
     "execution_count": 16,
     "metadata": {},
     "output_type": "execute_result"
    }
   ],
   "source": [
    "finalData = sdata.drop_duplicates( subset={'author', 'title', 'language', 'country'}, keep='first', inplace=False )\n",
    "\n",
    "# Here subset: is a subset of cols which are checked for similarty for duplicacy\n",
    "# keep = first : means keep the first row delete the rest duplicates\n",
    "# inplace = false : means it will return a copy instead of dropping it inplace\n",
    "# drop duplicates is present in Pandas\n",
    "\n",
    "finalData.shape"
   ]
  },
  {
   "cell_type": "code",
   "execution_count": 17,
   "metadata": {},
   "outputs": [
    {
     "data": {
      "text/plain": [
       "bs            10485\n",
       "bias            394\n",
       "conspiracy      377\n",
       "hate            242\n",
       "satire          146\n",
       "state           120\n",
       "junksci         102\n",
       "fake             19\n",
       "Name: type, dtype: int64"
      ]
     },
     "execution_count": 17,
     "metadata": {},
     "output_type": "execute_result"
    }
   ],
   "source": [
    "finalData.type.value_counts()"
   ]
  },
  {
   "cell_type": "code",
   "execution_count": 18,
   "metadata": {},
   "outputs": [
    {
     "data": {
      "text/plain": [
       "str"
      ]
     },
     "execution_count": 18,
     "metadata": {},
     "output_type": "execute_result"
    }
   ],
   "source": [
    "type(finalData.text[20])"
   ]
  },
  {
   "cell_type": "code",
   "execution_count": 19,
   "metadata": {},
   "outputs": [
    {
     "data": {
      "text/plain": [
       "46"
      ]
     },
     "execution_count": 19,
     "metadata": {},
     "output_type": "execute_result"
    }
   ],
   "source": [
    "finalData['text'].isna().sum()"
   ]
  },
  {
   "cell_type": "code",
   "execution_count": 20,
   "metadata": {},
   "outputs": [
    {
     "data": {
      "text/plain": [
       "(11839, 20)"
      ]
     },
     "execution_count": 20,
     "metadata": {},
     "output_type": "execute_result"
    }
   ],
   "source": [
    "# Removing all the datapoints that don't have any text\n",
    "\n",
    "x = finalData[ ~finalData['text'].isna() ]\n",
    "x.shape"
   ]
  },
  {
   "cell_type": "code",
   "execution_count": 21,
   "metadata": {},
   "outputs": [
    {
     "data": {
      "text/plain": [
       "0"
      ]
     },
     "execution_count": 21,
     "metadata": {},
     "output_type": "execute_result"
    }
   ],
   "source": [
    "x.text.isna().sum()"
   ]
  },
  {
   "cell_type": "code",
   "execution_count": 22,
   "metadata": {},
   "outputs": [
    {
     "data": {
      "text/plain": [
       "['Anonymous – World War 3 is imminent 2016',\n",
       " 'Is Goat Milk Better Than Cow Milk? Plus A List Of Health Benefits',\n",
       " 'Unknown',\n",
       " 'How White Cops Interact with Blacks in Real Life',\n",
       " 'Unknown',\n",
       " 'Unknown',\n",
       " 'Unknown',\n",
       " 'Latest Pipeline Leak Underscores Dangers Of Dakota Access Pipeline',\n",
       " 'Unknown',\n",
       " 'United States – reformation or fracture?, by Thierry Meyssan']"
      ]
     },
     "execution_count": 22,
     "metadata": {},
     "output_type": "execute_result"
    }
   ],
   "source": [
    "title = ['Unknown' if len(str(item))<1 or type(item)==float else item for item in x.title.values]\n",
    "title[:10]"
   ]
  },
  {
   "cell_type": "code",
   "execution_count": 23,
   "metadata": {},
   "outputs": [
    {
     "name": "stderr",
     "output_type": "stream",
     "text": [
      "D:\\Anaconda\\lib\\site-packages\\ipykernel_launcher.py:1: SettingWithCopyWarning: \n",
      "A value is trying to be set on a copy of a slice from a DataFrame.\n",
      "Try using .loc[row_indexer,col_indexer] = value instead\n",
      "\n",
      "See the caveats in the documentation: https://pandas.pydata.org/pandas-docs/stable/user_guide/indexing.html#returning-a-view-versus-a-copy\n",
      "  \"\"\"Entry point for launching an IPython kernel.\n"
     ]
    },
    {
     "data": {
      "text/plain": [
       "bs            347\n",
       "bias           82\n",
       "conspiracy      5\n",
       "Name: type, dtype: int64"
      ]
     },
     "execution_count": 23,
     "metadata": {},
     "output_type": "execute_result"
    }
   ],
   "source": [
    "# Does Missing title imply fake news ?\n",
    "\n",
    "x['title'] = title\n",
    "temp = x[ x['title'] == 'Unknown' ]\n",
    "temp.type.value_counts()"
   ]
  },
  {
   "cell_type": "markdown",
   "metadata": {},
   "source": [
    "## Text Processing"
   ]
  },
  {
   "cell_type": "code",
   "execution_count": 24,
   "metadata": {},
   "outputs": [],
   "source": [
    "import string\n",
    "import nltk\n",
    "from nltk.stem import PorterStemmer\n",
    "from nltk.stem.wordnet import WordNetLemmatizer"
   ]
  },
  {
   "cell_type": "code",
   "execution_count": 25,
   "metadata": {},
   "outputs": [
    {
     "name": "stdout",
     "output_type": "stream",
     "text": [
      "{'does', 'aren', 'you', 'needn', 'them', 'doing', 'after', 'herself', 'through', 'doesn', 'which', 'himself', 'from', 'her', 'hadn', 'she', \"should've\", 'at', 'between', 'mustn', 'up', \"you're\", 'yourselves', 'itself', 'were', 'again', 'has', \"haven't\", 'few', 'these', 'shan', 'it', \"mustn't\", 'me', \"you've\", 'can', 'now', 'are', 'when', 'here', 'ain', 'during', \"aren't\", 'nor', \"she's\", \"you'd\", 'while', 'each', 'won', 'have', 'did', 'against', 'mightn', \"won't\", 'this', 'above', 'out', \"shan't\", \"isn't\", \"needn't\", 'and', \"mightn't\", 'should', 'of', 'as', 'before', 'where', 'those', 'over', 'whom', 'for', \"doesn't\", \"you'll\", 'having', 'do', 'being', \"that'll\", 'an', \"weren't\", 'was', \"hadn't\", 'didn', 'all', 'than', 'm', 'in', 'most', 'by', 'such', 'ourselves', 'is', 'don', 'y', 't', 'why', 'below', 'yours', 'on', 'wouldn', 'theirs', 'but', \"couldn't\", 'o', 'then', 'other', 'their', 'because', 'not', \"wouldn't\", 'what', 'into', 'to', 'be', 'wasn', \"don't\", 'your', 'my', 'same', 'shouldn', 'he', 'once', 'only', 'just', 'isn', 'no', 'if', 'so', 'there', \"wasn't\", 'its', 'our', 'own', 'down', 'off', 'ma', 'any', 'had', 'a', 'themselves', 'weren', 'i', 'myself', 'him', 'haven', 'with', 'under', 'some', 's', 'will', 'been', 'they', 'that', 'who', 'how', 're', 'very', 'his', 'd', 'the', 've', 'further', 'hers', 'yourself', 'more', 'couldn', 'we', 'am', 'ours', \"hasn't\", 'about', 'too', 'until', 'hasn', \"shouldn't\", 'or', \"didn't\", \"it's\", 'll', 'both'}\n"
     ]
    }
   ],
   "source": [
    "from nltk.corpus import stopwords \n",
    "\n",
    "stop = set( stopwords.words('english') )  \n",
    "## We created a set called stop for predefined stopwords in stopwords.words('english')\n",
    "\n",
    "print(stop)\n",
    "\n",
    "## Use nltk.download() if package not already present"
   ]
  },
  {
   "cell_type": "code",
   "execution_count": 26,
   "metadata": {},
   "outputs": [
    {
     "name": "stdout",
     "output_type": "stream",
     "text": [
      "<nltk.stem.snowball.SnowballStemmer object at 0x00000215450AA0F0>\n"
     ]
    },
    {
     "data": {
      "text/plain": [
       "'beauti'"
      ]
     },
     "execution_count": 26,
     "metadata": {},
     "output_type": "execute_result"
    }
   ],
   "source": [
    "snow = nltk.stem.SnowballStemmer('english')  #Initializing a Snowball Stemmer for English\n",
    "\n",
    "print(snow)\n",
    "\n",
    "snow.stem('beautiful')  # Will give the Stem word for Beautiful"
   ]
  },
  {
   "cell_type": "code",
   "execution_count": 27,
   "metadata": {},
   "outputs": [],
   "source": [
    "import re  # Regular Expression\n",
    "\n",
    "def html(sen):       # cleans HTML tags\n",
    "    cleanr = re.compile('<.*?>')\n",
    "    cleantext = re.sub(cleanr, '', sen)\n",
    "    return cleantext\n",
    "\n",
    "def punc(sen):      # cleans Punctuations\n",
    "    clean = re.sub( r'[?|!|\\'|\"|#]', r'', sen ) # Find ? ! ' \" # and remove it with blank from sen\n",
    "    clean = re.sub( r'[.|,|}|)|(|\\|/]', r'', clean )  # Find . , } ) ( \\ / ) and remove it from clean\n",
    "    return clean\n",
    "\n",
    "# compile() function converts an expression string into a RegexObject\n",
    "# sub() is used to replace all occurances of a pattern with another string"
   ]
  },
  {
   "cell_type": "code",
   "execution_count": 28,
   "metadata": {},
   "outputs": [],
   "source": [
    "from tqdm import tqdm # For progressbar   pip install tqdm\n",
    "\n",
    "def processText(stuff):\n",
    "\n",
    "    string = ''\n",
    "    finalstr = []\n",
    "\n",
    "    for sen in tqdm(stuff.values):    # tqdm only used here to display progressbar for the for loop \n",
    "        filter_sen = []\n",
    "        sen = html(sen) # Removes HTML Tags\n",
    "\n",
    "        for w in sen.split():\n",
    "            for cw in punc(w).split():  # removes punc and splits the sentence to words and iterate through the loop\n",
    "\n",
    "                if cw.isalpha() and len(cw) > 2 :  # Check if word is alphabet and len is > 2\n",
    "                    if cw.lower() not in stop :  # Check if word is not a stopword \n",
    "\n",
    "                        s = snow.stem( cw.lower() ).encode('utf8')  # Coverts the word to it's stem word\n",
    "                        filter_sen.append(s)       # Filter Sen contains only Stem words\n",
    "\n",
    "                    else:\n",
    "                        continue\n",
    "                else:\n",
    "                    continue\n",
    "\n",
    "        string = b\" \".join( filter_sen ) # str holds stemmed words in bytes, b to remove Expected String Bytes found error\n",
    "\n",
    "        finalstr.append( string )\n",
    "    return finalstr"
   ]
  },
  {
   "cell_type": "code",
   "execution_count": 29,
   "metadata": {},
   "outputs": [
    {
     "name": "stderr",
     "output_type": "stream",
     "text": [
      "100%|████████████████████████████████████████████████████████████████████████████| 11839/11839 [01:58<00:00, 99.89it/s]\n"
     ]
    }
   ],
   "source": [
    "resText = processText( x['text'] )"
   ]
  },
  {
   "cell_type": "code",
   "execution_count": 49,
   "metadata": {},
   "outputs": [
    {
     "name": "stdout",
     "output_type": "stream",
     "text": [
      "Before Text Processing:-\n",
      "1:  DAYM!\n",
      " \n",
      "Ok, that was no POS RPG.  They gots toys with tech.\n",
      " \n",
      "Now the important question , was the boom-stick made in USA or Moscow?\n",
      "2:  Is Nic Cage hair a alien? I think it might be a shapeshifter. doomish Re: Is Nic Cage hair a alien? **Some people just need a high-five. With a chair. In the face.** Anonymous Coward Re: Is Nic Cage hair a alien? lols Re: Is Nic Cage hair a alien? HEY! Dont disrespect Nic Cage. That man is a legend at starring in shitty movies. Page 1 08/12/16 2 10/21/09 3 04/13/16 6 Mail with questions or comments about this site. \"Godlike Productions\" & \"GLP\" are registered trademarks of Zero Point Ltd. Godlike™ © 1999 - 2015 Godlikeproductions.com Page generated in 0.008s (7 queries)\n",
      "3:  No, judges have become the national lexicographers. Marriage is newly defined and John roberts now tells us that penalty is now synonymous with tax. \n",
      "\n",
      "After Text Processing:-\n",
      "1:  b'daym pos rpg got toy tech import question made usa moscow'\n",
      "2:  b'nic cage hair alien think might shapeshift doomish nic cage hair alien peopl need chair anonym coward nic cage hair alien lol nic cage hair alien hey dont disrespect nic cage man legend star shitti movi page mail question comment site godlik product glp regist trademark zero point ltd godlikeproductionscom page generat queri'\n",
      "3:  b'judg becom nation lexicograph marriag newli defin john robert tell penalti synonym tax'\n"
     ]
    }
   ],
   "source": [
    "print('Before Text Processing:-')\n",
    "print('1: ', x['text'].iloc[999] )\n",
    "print('2: ', x['text'].iloc[580] )\n",
    "print('3: ', x['text'].iloc[700], '\\n' )\n",
    "print('After Text Processing:-')\n",
    "print('1: ', resText[999] )\n",
    "print('2: ', resText[580] )\n",
    "print('3: ', resText[700] )"
   ]
  },
  {
   "cell_type": "code",
   "execution_count": 50,
   "metadata": {},
   "outputs": [
    {
     "name": "stderr",
     "output_type": "stream",
     "text": [
      "100%|██████████████████████████████████████████████████████████████████████████| 11839/11839 [00:02<00:00, 5245.03it/s]\n"
     ]
    }
   ],
   "source": [
    "resTitle = processText( x['title'] )"
   ]
  },
  {
   "cell_type": "code",
   "execution_count": 55,
   "metadata": {},
   "outputs": [
    {
     "name": "stdout",
     "output_type": "stream",
     "text": [
      "Before Text Processing:-\n",
      "1:  Brother of Clinton’s Campaign Chair is an Active Foreign Agent on the Saudi Arabian Payroll\n",
      "2:  Is Nic Cage hair a alien?\n",
      "3:  NHL: Philadelphia Flyers beat Buffalo Sabres 4-3 \n",
      "\n",
      "After Text Processing:-\n",
      "1:  b'brother campaign chair activ foreign agent saudi arabian payrol'\n",
      "2:  b'nic cage hair alien'\n",
      "3:  b'philadelphia flyer beat buffalo sabr'\n"
     ]
    }
   ],
   "source": [
    "print('Before Text Processing:-')\n",
    "print('1: ', x['title'].iloc[1200] )\n",
    "print('2: ', x['title'].iloc[580] )\n",
    "print('3: ', x['title'].iloc[760], '\\n' )\n",
    "print('After Text Processing:-')\n",
    "print('1: ', resTitle[1200] )\n",
    "print('2: ', resTitle[580] )\n",
    "print('3: ', resTitle[760] )"
   ]
  },
  {
   "cell_type": "code",
   "execution_count": 56,
   "metadata": {},
   "outputs": [
    {
     "name": "stderr",
     "output_type": "stream",
     "text": [
      "D:\\Anaconda\\lib\\site-packages\\ipykernel_launcher.py:1: SettingWithCopyWarning: \n",
      "A value is trying to be set on a copy of a slice from a DataFrame.\n",
      "Try using .loc[row_indexer,col_indexer] = value instead\n",
      "\n",
      "See the caveats in the documentation: https://pandas.pydata.org/pandas-docs/stable/user_guide/indexing.html#returning-a-view-versus-a-copy\n",
      "  \"\"\"Entry point for launching an IPython kernel.\n",
      "D:\\Anaconda\\lib\\site-packages\\ipykernel_launcher.py:2: SettingWithCopyWarning: \n",
      "A value is trying to be set on a copy of a slice from a DataFrame.\n",
      "Try using .loc[row_indexer,col_indexer] = value instead\n",
      "\n",
      "See the caveats in the documentation: https://pandas.pydata.org/pandas-docs/stable/user_guide/indexing.html#returning-a-view-versus-a-copy\n",
      "  \n",
      "D:\\Anaconda\\lib\\site-packages\\pandas\\core\\frame.py:3997: SettingWithCopyWarning: \n",
      "A value is trying to be set on a copy of a slice from a DataFrame\n",
      "\n",
      "See the caveats in the documentation: https://pandas.pydata.org/pandas-docs/stable/user_guide/indexing.html#returning-a-view-versus-a-copy\n",
      "  errors=errors,\n"
     ]
    },
    {
     "data": {
      "text/html": [
       "<div>\n",
       "<style scoped>\n",
       "    .dataframe tbody tr th:only-of-type {\n",
       "        vertical-align: middle;\n",
       "    }\n",
       "\n",
       "    .dataframe tbody tr th {\n",
       "        vertical-align: top;\n",
       "    }\n",
       "\n",
       "    .dataframe thead th {\n",
       "        text-align: right;\n",
       "    }\n",
       "</style>\n",
       "<table border=\"1\" class=\"dataframe\">\n",
       "  <thead>\n",
       "    <tr style=\"text-align: right;\">\n",
       "      <th></th>\n",
       "      <th>uuid</th>\n",
       "      <th>ord_in_thread</th>\n",
       "      <th>author</th>\n",
       "      <th>published</th>\n",
       "      <th>language</th>\n",
       "      <th>crawled</th>\n",
       "      <th>site_url</th>\n",
       "      <th>country</th>\n",
       "      <th>domain_rank</th>\n",
       "      <th>thread_title</th>\n",
       "      <th>spam_score</th>\n",
       "      <th>main_img_url</th>\n",
       "      <th>replies_count</th>\n",
       "      <th>participants_count</th>\n",
       "      <th>likes</th>\n",
       "      <th>comments</th>\n",
       "      <th>shares</th>\n",
       "      <th>type</th>\n",
       "      <th>cleanTitle</th>\n",
       "      <th>cleanText</th>\n",
       "    </tr>\n",
       "  </thead>\n",
       "  <tbody>\n",
       "    <tr>\n",
       "      <th>7025</th>\n",
       "      <td>0ac5ff74444fe3bd51c6529f2694dbcfcdb07e8d</td>\n",
       "      <td>0</td>\n",
       "      <td>Pakalert</td>\n",
       "      <td>2016-10-26T00:01:00.000+03:00</td>\n",
       "      <td>english</td>\n",
       "      <td>2016-10-27T06:03:32.233+03:00</td>\n",
       "      <td>pakalertpress.com</td>\n",
       "      <td>US</td>\n",
       "      <td>NaN</td>\n",
       "      <td>Anonymous – World War 3 is imminent 2016</td>\n",
       "      <td>0.000</td>\n",
       "      <td>http://www.pakalertpress.com/wp-content/upload...</td>\n",
       "      <td>0</td>\n",
       "      <td>1</td>\n",
       "      <td>0</td>\n",
       "      <td>0</td>\n",
       "      <td>0</td>\n",
       "      <td>bs</td>\n",
       "      <td>b'anonym world war immin'</td>\n",
       "      <td>b''</td>\n",
       "    </tr>\n",
       "    <tr>\n",
       "      <th>10399</th>\n",
       "      <td>2b2d9361f829a07d14b32025ed528fb47c1e9a0a</td>\n",
       "      <td>0</td>\n",
       "      <td>Dr. Edward F. Group III</td>\n",
       "      <td>2016-10-26T00:06:00.000+03:00</td>\n",
       "      <td>english</td>\n",
       "      <td>2016-10-27T16:00:02.775+03:00</td>\n",
       "      <td>thesleuthjournal.com</td>\n",
       "      <td>US</td>\n",
       "      <td>NaN</td>\n",
       "      <td>Is Goat Milk Better Than Cow Milk? Plus A List...</td>\n",
       "      <td>0.000</td>\n",
       "      <td>http://www.thesleuthjournal.com/wp-content/upl...</td>\n",
       "      <td>0</td>\n",
       "      <td>1</td>\n",
       "      <td>0</td>\n",
       "      <td>0</td>\n",
       "      <td>0</td>\n",
       "      <td>bs</td>\n",
       "      <td>b'goat milk better cow milk plus list health b...</td>\n",
       "      <td>b'general health milk remain one common daili ...</td>\n",
       "    </tr>\n",
       "    <tr>\n",
       "      <th>2149</th>\n",
       "      <td>3628b009408de36ad0eb21bab7b9b5812e548431</td>\n",
       "      <td>2</td>\n",
       "      <td>Sisu</td>\n",
       "      <td>2016-10-26T03:00:00.000+03:00</td>\n",
       "      <td>english</td>\n",
       "      <td>2016-10-28T02:57:42.273+03:00</td>\n",
       "      <td>dailystormer.com</td>\n",
       "      <td>US</td>\n",
       "      <td>36674.0</td>\n",
       "      <td>How White Cops Interact with Blacks in Real Life</td>\n",
       "      <td>0.094</td>\n",
       "      <td>http://www.dailystormer.com/wp-content/uploads...</td>\n",
       "      <td>4</td>\n",
       "      <td>5</td>\n",
       "      <td>0</td>\n",
       "      <td>0</td>\n",
       "      <td>0</td>\n",
       "      <td>bs</td>\n",
       "      <td>b'unknown'</td>\n",
       "      <td>b'nigger libtard thought put bodi camera leo g...</td>\n",
       "    </tr>\n",
       "    <tr>\n",
       "      <th>2147</th>\n",
       "      <td>1275c3334078af54960d4d93bd6543d124cdb38a</td>\n",
       "      <td>0</td>\n",
       "      <td>Andrew Anglin</td>\n",
       "      <td>2016-10-26T03:00:00.000+03:00</td>\n",
       "      <td>english</td>\n",
       "      <td>2016-10-28T02:57:42.229+03:00</td>\n",
       "      <td>dailystormer.com</td>\n",
       "      <td>US</td>\n",
       "      <td>36674.0</td>\n",
       "      <td>How White Cops Interact with Blacks in Real Life</td>\n",
       "      <td>0.094</td>\n",
       "      <td>http://www.dailystormer.com/wp-content/uploads...</td>\n",
       "      <td>4</td>\n",
       "      <td>5</td>\n",
       "      <td>0</td>\n",
       "      <td>0</td>\n",
       "      <td>0</td>\n",
       "      <td>bs</td>\n",
       "      <td>b'white cop interact black real life'</td>\n",
       "      <td>b'andrew anglin black think black interact whi...</td>\n",
       "    </tr>\n",
       "    <tr>\n",
       "      <th>2148</th>\n",
       "      <td>ace060f59257df6ee76fd0b78ba30ed091d8e6c2</td>\n",
       "      <td>1</td>\n",
       "      <td>Colonel-Gunter.Brumm</td>\n",
       "      <td>2016-10-26T03:00:00.000+03:00</td>\n",
       "      <td>english</td>\n",
       "      <td>2016-10-28T02:57:42.254+03:00</td>\n",
       "      <td>dailystormer.com</td>\n",
       "      <td>US</td>\n",
       "      <td>36674.0</td>\n",
       "      <td>How White Cops Interact with Blacks in Real Life</td>\n",
       "      <td>0.094</td>\n",
       "      <td>http://www.dailystormer.com/wp-content/uploads...</td>\n",
       "      <td>4</td>\n",
       "      <td>5</td>\n",
       "      <td>0</td>\n",
       "      <td>0</td>\n",
       "      <td>0</td>\n",
       "      <td>bs</td>\n",
       "      <td>b'unknown'</td>\n",
       "      <td>b'dxfbdjpg'</td>\n",
       "    </tr>\n",
       "  </tbody>\n",
       "</table>\n",
       "</div>"
      ],
      "text/plain": [
       "                                           uuid  ord_in_thread  \\\n",
       "7025   0ac5ff74444fe3bd51c6529f2694dbcfcdb07e8d              0   \n",
       "10399  2b2d9361f829a07d14b32025ed528fb47c1e9a0a              0   \n",
       "2149   3628b009408de36ad0eb21bab7b9b5812e548431              2   \n",
       "2147   1275c3334078af54960d4d93bd6543d124cdb38a              0   \n",
       "2148   ace060f59257df6ee76fd0b78ba30ed091d8e6c2              1   \n",
       "\n",
       "                        author                      published language  \\\n",
       "7025                  Pakalert  2016-10-26T00:01:00.000+03:00  english   \n",
       "10399  Dr. Edward F. Group III  2016-10-26T00:06:00.000+03:00  english   \n",
       "2149                      Sisu  2016-10-26T03:00:00.000+03:00  english   \n",
       "2147             Andrew Anglin  2016-10-26T03:00:00.000+03:00  english   \n",
       "2148      Colonel-Gunter.Brumm  2016-10-26T03:00:00.000+03:00  english   \n",
       "\n",
       "                             crawled              site_url country  \\\n",
       "7025   2016-10-27T06:03:32.233+03:00     pakalertpress.com      US   \n",
       "10399  2016-10-27T16:00:02.775+03:00  thesleuthjournal.com      US   \n",
       "2149   2016-10-28T02:57:42.273+03:00      dailystormer.com      US   \n",
       "2147   2016-10-28T02:57:42.229+03:00      dailystormer.com      US   \n",
       "2148   2016-10-28T02:57:42.254+03:00      dailystormer.com      US   \n",
       "\n",
       "       domain_rank                                       thread_title  \\\n",
       "7025           NaN           Anonymous – World War 3 is imminent 2016   \n",
       "10399          NaN  Is Goat Milk Better Than Cow Milk? Plus A List...   \n",
       "2149       36674.0   How White Cops Interact with Blacks in Real Life   \n",
       "2147       36674.0   How White Cops Interact with Blacks in Real Life   \n",
       "2148       36674.0   How White Cops Interact with Blacks in Real Life   \n",
       "\n",
       "       spam_score                                       main_img_url  \\\n",
       "7025        0.000  http://www.pakalertpress.com/wp-content/upload...   \n",
       "10399       0.000  http://www.thesleuthjournal.com/wp-content/upl...   \n",
       "2149        0.094  http://www.dailystormer.com/wp-content/uploads...   \n",
       "2147        0.094  http://www.dailystormer.com/wp-content/uploads...   \n",
       "2148        0.094  http://www.dailystormer.com/wp-content/uploads...   \n",
       "\n",
       "       replies_count  participants_count  likes  comments  shares type  \\\n",
       "7025               0                   1      0         0       0   bs   \n",
       "10399              0                   1      0         0       0   bs   \n",
       "2149               4                   5      0         0       0   bs   \n",
       "2147               4                   5      0         0       0   bs   \n",
       "2148               4                   5      0         0       0   bs   \n",
       "\n",
       "                                              cleanTitle  \\\n",
       "7025                           b'anonym world war immin'   \n",
       "10399  b'goat milk better cow milk plus list health b...   \n",
       "2149                                          b'unknown'   \n",
       "2147               b'white cop interact black real life'   \n",
       "2148                                          b'unknown'   \n",
       "\n",
       "                                               cleanText  \n",
       "7025                                                 b''  \n",
       "10399  b'general health milk remain one common daili ...  \n",
       "2149   b'nigger libtard thought put bodi camera leo g...  \n",
       "2147   b'andrew anglin black think black interact whi...  \n",
       "2148                                         b'dxfbdjpg'  "
      ]
     },
     "execution_count": 56,
     "metadata": {},
     "output_type": "execute_result"
    }
   ],
   "source": [
    "x['cleanTitle'] = resTitle\n",
    "x['cleanText'] = resText\n",
    "\n",
    "x.drop(['title', 'text'], axis=1, inplace=True)\n",
    "x.head()"
   ]
  },
  {
   "cell_type": "code",
   "execution_count": 62,
   "metadata": {},
   "outputs": [
    {
     "data": {
      "text/plain": [
       "bs            10485\n",
       "bias            394\n",
       "conspiracy      377\n",
       "hate            242\n",
       "state           120\n",
       "junksci         102\n",
       "satire          100\n",
       "fake             19\n",
       "Name: type, dtype: int64"
      ]
     },
     "execution_count": 62,
     "metadata": {},
     "output_type": "execute_result"
    }
   ],
   "source": [
    "x.type.value_counts()"
   ]
  },
  {
   "cell_type": "code",
   "execution_count": 58,
   "metadata": {},
   "outputs": [
    {
     "data": {
      "text/plain": [
       "US    9752\n",
       "GB     789\n",
       "TV     200\n",
       "RU     192\n",
       "DE     180\n",
       "FR     127\n",
       "CA     101\n",
       "IS     100\n",
       "EU      68\n",
       "NL      35\n",
       "ME      34\n",
       "IN      23\n",
       "BG      19\n",
       "CO      17\n",
       "LI      10\n",
       "EE       4\n",
       "IR       4\n",
       "ZA       3\n",
       "SG       2\n",
       "CH       1\n",
       "IO       1\n",
       "SE       1\n",
       "AU       1\n",
       "Name: country, dtype: int64"
      ]
     },
     "execution_count": 58,
     "metadata": {},
     "output_type": "execute_result"
    }
   ],
   "source": [
    "x.country.value_counts()"
   ]
  },
  {
   "cell_type": "code",
   "execution_count": 63,
   "metadata": {},
   "outputs": [
    {
     "name": "stdout",
     "output_type": "stream",
     "text": [
      "bs            8663\n",
      "bias           319\n",
      "conspiracy     303\n",
      "hate           242\n",
      "junksci        100\n",
      "satire         100\n",
      "fake            18\n",
      "state            7\n",
      "Name: type, dtype: int64\n"
     ]
    },
    {
     "data": {
      "text/plain": [
       "(9752, 20)"
      ]
     },
     "execution_count": 63,
     "metadata": {},
     "output_type": "execute_result"
    }
   ],
   "source": [
    "usa = x[ x['country'] == 'US']\n",
    "print( usa.type.value_counts() )\n",
    "usa.shape"
   ]
  },
  {
   "cell_type": "markdown",
   "metadata": {},
   "source": [
    "### Taking only useful information and handling missing data"
   ]
  },
  {
   "cell_type": "code",
   "execution_count": 67,
   "metadata": {},
   "outputs": [
    {
     "name": "stdout",
     "output_type": "stream",
     "text": [
      "(9752, 12)\n"
     ]
    },
    {
     "data": {
      "text/html": [
       "<div>\n",
       "<style scoped>\n",
       "    .dataframe tbody tr th:only-of-type {\n",
       "        vertical-align: middle;\n",
       "    }\n",
       "\n",
       "    .dataframe tbody tr th {\n",
       "        vertical-align: top;\n",
       "    }\n",
       "\n",
       "    .dataframe thead th {\n",
       "        text-align: right;\n",
       "    }\n",
       "</style>\n",
       "<table border=\"1\" class=\"dataframe\">\n",
       "  <thead>\n",
       "    <tr style=\"text-align: right;\">\n",
       "      <th></th>\n",
       "      <th>author</th>\n",
       "      <th>site_url</th>\n",
       "      <th>cleanTitle</th>\n",
       "      <th>cleanText</th>\n",
       "      <th>domain_rank</th>\n",
       "      <th>spam_score</th>\n",
       "      <th>replies_count</th>\n",
       "      <th>participants_count</th>\n",
       "      <th>likes</th>\n",
       "      <th>comments</th>\n",
       "      <th>shares</th>\n",
       "      <th>type</th>\n",
       "    </tr>\n",
       "  </thead>\n",
       "  <tbody>\n",
       "    <tr>\n",
       "      <th>7025</th>\n",
       "      <td>Pakalert</td>\n",
       "      <td>pakalertpress.com</td>\n",
       "      <td>b'anonym world war immin'</td>\n",
       "      <td>b''</td>\n",
       "      <td>NaN</td>\n",
       "      <td>0.000</td>\n",
       "      <td>0</td>\n",
       "      <td>1</td>\n",
       "      <td>0</td>\n",
       "      <td>0</td>\n",
       "      <td>0</td>\n",
       "      <td>bs</td>\n",
       "    </tr>\n",
       "    <tr>\n",
       "      <th>10399</th>\n",
       "      <td>Dr. Edward F. Group III</td>\n",
       "      <td>thesleuthjournal.com</td>\n",
       "      <td>b'goat milk better cow milk plus list health b...</td>\n",
       "      <td>b'general health milk remain one common daili ...</td>\n",
       "      <td>NaN</td>\n",
       "      <td>0.000</td>\n",
       "      <td>0</td>\n",
       "      <td>1</td>\n",
       "      <td>0</td>\n",
       "      <td>0</td>\n",
       "      <td>0</td>\n",
       "      <td>bs</td>\n",
       "    </tr>\n",
       "    <tr>\n",
       "      <th>2149</th>\n",
       "      <td>Sisu</td>\n",
       "      <td>dailystormer.com</td>\n",
       "      <td>b'unknown'</td>\n",
       "      <td>b'nigger libtard thought put bodi camera leo g...</td>\n",
       "      <td>36674.0</td>\n",
       "      <td>0.094</td>\n",
       "      <td>4</td>\n",
       "      <td>5</td>\n",
       "      <td>0</td>\n",
       "      <td>0</td>\n",
       "      <td>0</td>\n",
       "      <td>bs</td>\n",
       "    </tr>\n",
       "    <tr>\n",
       "      <th>2147</th>\n",
       "      <td>Andrew Anglin</td>\n",
       "      <td>dailystormer.com</td>\n",
       "      <td>b'white cop interact black real life'</td>\n",
       "      <td>b'andrew anglin black think black interact whi...</td>\n",
       "      <td>36674.0</td>\n",
       "      <td>0.094</td>\n",
       "      <td>4</td>\n",
       "      <td>5</td>\n",
       "      <td>0</td>\n",
       "      <td>0</td>\n",
       "      <td>0</td>\n",
       "      <td>bs</td>\n",
       "    </tr>\n",
       "    <tr>\n",
       "      <th>2148</th>\n",
       "      <td>Colonel-Gunter.Brumm</td>\n",
       "      <td>dailystormer.com</td>\n",
       "      <td>b'unknown'</td>\n",
       "      <td>b'dxfbdjpg'</td>\n",
       "      <td>36674.0</td>\n",
       "      <td>0.094</td>\n",
       "      <td>4</td>\n",
       "      <td>5</td>\n",
       "      <td>0</td>\n",
       "      <td>0</td>\n",
       "      <td>0</td>\n",
       "      <td>bs</td>\n",
       "    </tr>\n",
       "  </tbody>\n",
       "</table>\n",
       "</div>"
      ],
      "text/plain": [
       "                        author              site_url  \\\n",
       "7025                  Pakalert     pakalertpress.com   \n",
       "10399  Dr. Edward F. Group III  thesleuthjournal.com   \n",
       "2149                      Sisu      dailystormer.com   \n",
       "2147             Andrew Anglin      dailystormer.com   \n",
       "2148      Colonel-Gunter.Brumm      dailystormer.com   \n",
       "\n",
       "                                              cleanTitle  \\\n",
       "7025                           b'anonym world war immin'   \n",
       "10399  b'goat milk better cow milk plus list health b...   \n",
       "2149                                          b'unknown'   \n",
       "2147               b'white cop interact black real life'   \n",
       "2148                                          b'unknown'   \n",
       "\n",
       "                                               cleanText  domain_rank  \\\n",
       "7025                                                 b''          NaN   \n",
       "10399  b'general health milk remain one common daili ...          NaN   \n",
       "2149   b'nigger libtard thought put bodi camera leo g...      36674.0   \n",
       "2147   b'andrew anglin black think black interact whi...      36674.0   \n",
       "2148                                         b'dxfbdjpg'      36674.0   \n",
       "\n",
       "       spam_score  replies_count  participants_count  likes  comments  shares  \\\n",
       "7025        0.000              0                   1      0         0       0   \n",
       "10399       0.000              0                   1      0         0       0   \n",
       "2149        0.094              4                   5      0         0       0   \n",
       "2147        0.094              4                   5      0         0       0   \n",
       "2148        0.094              4                   5      0         0       0   \n",
       "\n",
       "      type  \n",
       "7025    bs  \n",
       "10399   bs  \n",
       "2149    bs  \n",
       "2147    bs  \n",
       "2148    bs  "
      ]
     },
     "execution_count": 67,
     "metadata": {},
     "output_type": "execute_result"
    }
   ],
   "source": [
    "xUsa = usa[['author', 'site_url', 'cleanTitle', 'cleanText', 'domain_rank', 'spam_score',\\\n",
    "            'replies_count', 'participants_count', 'likes', 'comments', 'shares', 'type' ]]\n",
    "\n",
    "print(xUsa.shape)\n",
    "xUsa.head()"
   ]
  },
  {
   "cell_type": "code",
   "execution_count": 78,
   "metadata": {},
   "outputs": [
    {
     "name": "stdout",
     "output_type": "stream",
     "text": [
      "<class 'pandas.core.frame.DataFrame'>\n",
      "Int64Index: 9752 entries, 7025 to 12104\n",
      "Data columns (total 12 columns):\n",
      " #   Column              Non-Null Count  Dtype  \n",
      "---  ------              --------------  -----  \n",
      " 0   author              9752 non-null   object \n",
      " 1   site_url            9752 non-null   object \n",
      " 2   cleanTitle          9752 non-null   object \n",
      " 3   cleanText           9752 non-null   object \n",
      " 4   domain_rank         6656 non-null   float64\n",
      " 5   spam_score          9752 non-null   float64\n",
      " 6   replies_count       9752 non-null   int64  \n",
      " 7   participants_count  9752 non-null   int64  \n",
      " 8   likes               9752 non-null   int64  \n",
      " 9   comments            9752 non-null   int64  \n",
      " 10  shares              9752 non-null   int64  \n",
      " 11  type                9752 non-null   object \n",
      "dtypes: float64(2), int64(5), object(5)\n",
      "memory usage: 990.4+ KB\n"
     ]
    }
   ],
   "source": [
    "xUsa.info()"
   ]
  },
  {
   "cell_type": "code",
   "execution_count": 77,
   "metadata": {},
   "outputs": [
    {
     "name": "stdout",
     "output_type": "stream",
     "text": [
      "0\n"
     ]
    },
    {
     "name": "stderr",
     "output_type": "stream",
     "text": [
      "D:\\Anaconda\\lib\\site-packages\\ipykernel_launcher.py:3: SettingWithCopyWarning: \n",
      "A value is trying to be set on a copy of a slice from a DataFrame.\n",
      "Try using .loc[row_indexer,col_indexer] = value instead\n",
      "\n",
      "See the caveats in the documentation: https://pandas.pydata.org/pandas-docs/stable/user_guide/indexing.html#returning-a-view-versus-a-copy\n",
      "  This is separate from the ipykernel package so we can avoid doing imports until\n"
     ]
    },
    {
     "data": {
      "text/plain": [
       "['Pakalert',\n",
       " 'Danny Gold',\n",
       " 'JB',\n",
       " 'KootenayCoyote',\n",
       " 'Anonymous',\n",
       " 'pascalmolineaux',\n",
       " 'basarov',\n",
       " 'Letsbereal',\n",
       " 'Letsbereal',\n",
       " 'Gambler X',\n",
       " 'Anonymous',\n",
       " 'Anonymous',\n",
       " 'Anonymous',\n",
       " 'Anonymous',\n",
       " 'Anonymous']"
      ]
     },
     "execution_count": 77,
     "metadata": {},
     "output_type": "execute_result"
    }
   ],
   "source": [
    "author = ['Anonymous' if len(str(item))<1 or type(item)==float else item for item in xUsa.author.values]\n",
    "\n",
    "xUsa['author'] = author\n",
    "print( xUsa.author.isna().sum() )\n",
    "author[35:50]"
   ]
  },
  {
   "cell_type": "code",
   "execution_count": 82,
   "metadata": {},
   "outputs": [
    {
     "data": {
      "text/plain": [
       "3096"
      ]
     },
     "execution_count": 82,
     "metadata": {},
     "output_type": "execute_result"
    }
   ],
   "source": [
    "xUsa.domain_rank.isna().sum()"
   ]
  },
  {
   "cell_type": "code",
   "execution_count": 83,
   "metadata": {},
   "outputs": [
    {
     "data": {
      "text/plain": [
       "count     6656.000000\n",
       "mean     40123.004657\n",
       "std      27356.460949\n",
       "min        486.000000\n",
       "25%      17592.000000\n",
       "50%      36674.000000\n",
       "75%      61606.000000\n",
       "max      98679.000000\n",
       "Name: domain_rank, dtype: float64"
      ]
     },
     "execution_count": 83,
     "metadata": {},
     "output_type": "execute_result"
    }
   ],
   "source": [
    "xUsa.domain_rank.describe()"
   ]
  },
  {
   "cell_type": "code",
   "execution_count": 86,
   "metadata": {},
   "outputs": [
    {
     "name": "stderr",
     "output_type": "stream",
     "text": [
      "D:\\Anaconda\\lib\\site-packages\\pandas\\core\\generic.py:6245: SettingWithCopyWarning: \n",
      "A value is trying to be set on a copy of a slice from a DataFrame\n",
      "\n",
      "See the caveats in the documentation: https://pandas.pydata.org/pandas-docs/stable/user_guide/indexing.html#returning-a-view-versus-a-copy\n",
      "  self._update_inplace(new_data)\n"
     ]
    },
    {
     "data": {
      "text/plain": [
       "0"
      ]
     },
     "execution_count": 86,
     "metadata": {},
     "output_type": "execute_result"
    }
   ],
   "source": [
    "# Replacing Missing domain_rank value with median values\n",
    "\n",
    "xUsa.domain_rank.fillna( xUsa.domain_rank.median(), inplace=True )\n",
    "xUsa.domain_rank.isna().sum()"
   ]
  },
  {
   "cell_type": "markdown",
   "metadata": {},
   "source": [
    "## Splitting data and encoding features"
   ]
  },
  {
   "cell_type": "code",
   "execution_count": 88,
   "metadata": {},
   "outputs": [
    {
     "name": "stdout",
     "output_type": "stream",
     "text": [
      "(6826, 12)\n",
      "(2926, 12)\n"
     ]
    }
   ],
   "source": [
    "# Test Train Split\n",
    "\n",
    "from sklearn.model_selection import StratifiedShuffleSplit\n",
    "\n",
    "sss = StratifiedShuffleSplit(n_splits=1, test_size=0.3, random_state=42)\n",
    "\n",
    "for train_index, test_index in sss.split(xUsa, xUsa['type']):\n",
    "    xtr, xte = xUsa.iloc[train_index], xUsa.iloc[test_index]\n",
    "\n",
    "print(xtr.shape)\n",
    "print(xte.shape)"
   ]
  },
  {
   "cell_type": "code",
   "execution_count": 108,
   "metadata": {},
   "outputs": [
    {
     "name": "stdout",
     "output_type": "stream",
     "text": [
      "(6826,)\n",
      "(2926,)\n"
     ]
    },
    {
     "name": "stderr",
     "output_type": "stream",
     "text": [
      "D:\\Anaconda\\lib\\site-packages\\pandas\\core\\frame.py:3997: SettingWithCopyWarning: \n",
      "A value is trying to be set on a copy of a slice from a DataFrame\n",
      "\n",
      "See the caveats in the documentation: https://pandas.pydata.org/pandas-docs/stable/user_guide/indexing.html#returning-a-view-versus-a-copy\n",
      "  errors=errors,\n"
     ]
    }
   ],
   "source": [
    "ytr = xtr['type']\n",
    "xtr.drop(['type'], axis=1, inplace=True)\n",
    "\n",
    "yte = xte['type']\n",
    "xte.drop(['type'], axis=1, inplace=True)\n",
    "\n",
    "print(ytr.shape)\n",
    "print(yte.shape)"
   ]
  },
  {
   "cell_type": "code",
   "execution_count": 196,
   "metadata": {},
   "outputs": [
    {
     "name": "stdout",
     "output_type": "stream",
     "text": [
      "bs            6064\n",
      "bias           223\n",
      "conspiracy     212\n",
      "hate           169\n",
      "junksci         70\n",
      "satire          70\n",
      "fake            13\n",
      "state            5\n",
      "Name: type, dtype: int64\n",
      "\n",
      " bs            2599\n",
      "bias            96\n",
      "conspiracy      91\n",
      "hate            73\n",
      "junksci         30\n",
      "satire          30\n",
      "fake             5\n",
      "state            2\n",
      "Name: type, dtype: int64\n"
     ]
    }
   ],
   "source": [
    "print(ytr.value_counts())\n",
    "print('\\n',yte.value_counts())"
   ]
  },
  {
   "cell_type": "markdown",
   "metadata": {},
   "source": [
    "We have only 5 instances of type = fake in test data"
   ]
  },
  {
   "cell_type": "code",
   "execution_count": 97,
   "metadata": {},
   "outputs": [
    {
     "name": "stdout",
     "output_type": "stream",
     "text": [
      "(6826, 1024)\n",
      "(2926, 1024)\n"
     ]
    }
   ],
   "source": [
    "from sklearn.feature_extraction.text import TfidfVectorizer\n",
    "\n",
    "tfidfvect = TfidfVectorizer( ngram_range=(2,3), min_df = 50)\n",
    "\n",
    "tfidfvect.fit( xtr['cleanText'].values )\n",
    "\n",
    "xtrTextTFIDF = tfidfvect.transform( xtr['cleanText'].values ) \n",
    "xteTextTFIDF = tfidfvect.transform( xte['cleanText'].values ) \n",
    "\n",
    "print( xtrTextTFIDF.shape )\n",
    "print( xteTextTFIDF.shape )\n",
    "\n",
    "# ngram_range : The lower and upper boundary of the range of n-values for different n-grams to be extracted."
   ]
  },
  {
   "cell_type": "code",
   "execution_count": 99,
   "metadata": {},
   "outputs": [
    {
     "data": {
      "text/plain": [
       "['abc news',\n",
       " 'access pipelin',\n",
       " 'accord new',\n",
       " 'accord report',\n",
       " 'across countri',\n",
       " 'act like',\n",
       " 'add comment',\n",
       " 'african american',\n",
       " 'aid huma',\n",
       " 'aid huma abedin',\n",
       " 'air defens',\n",
       " 'air forc',\n",
       " 'air strike',\n",
       " 'alex jone',\n",
       " 'almost certain']"
      ]
     },
     "execution_count": 99,
     "metadata": {},
     "output_type": "execute_result"
    }
   ],
   "source": [
    "tfidfvect.get_feature_names()[:15]"
   ]
  },
  {
   "cell_type": "code",
   "execution_count": 101,
   "metadata": {},
   "outputs": [
    {
     "data": {
      "text/plain": [
       "<1x1024 sparse matrix of type '<class 'numpy.float64'>'\n",
       "\twith 13 stored elements in Compressed Sparse Row format>"
      ]
     },
     "execution_count": 101,
     "metadata": {},
     "output_type": "execute_result"
    }
   ],
   "source": [
    "xtrTextTFIDF[0]"
   ]
  },
  {
   "cell_type": "code",
   "execution_count": 104,
   "metadata": {},
   "outputs": [
    {
     "name": "stdout",
     "output_type": "stream",
     "text": [
      "(6826, 62)\n",
      "(2926, 62)\n"
     ]
    }
   ],
   "source": [
    "tfidfvect = TfidfVectorizer( ngram_range=(2,3), min_df = 15)\n",
    "\n",
    "tfidfvect.fit( xtr['cleanTitle'].values )\n",
    "\n",
    "xtrTitleTFIDF = tfidfvect.transform( xtr['cleanTitle'].values ) \n",
    "xteTitleTFIDF = tfidfvect.transform( xte['cleanTitle'].values ) \n",
    "\n",
    "print( xtrTitleTFIDF.shape )\n",
    "print( xteTitleTFIDF.shape )"
   ]
  },
  {
   "cell_type": "code",
   "execution_count": 106,
   "metadata": {},
   "outputs": [
    {
     "data": {
      "text/plain": [
       "['access pipelin',\n",
       " 'america finest',\n",
       " 'america finest news',\n",
       " 'bill clinton',\n",
       " 'clinton campaign',\n",
       " 'clinton email',\n",
       " 'clinton email investig',\n",
       " 'clinton foundat',\n",
       " 'clinton investig',\n",
       " 'craig robert',\n",
       " 'daili wire',\n",
       " 'dakota access',\n",
       " 'dakota access pipelin',\n",
       " 'day elect',\n",
       " 'donald trump']"
      ]
     },
     "execution_count": 106,
     "metadata": {},
     "output_type": "execute_result"
    }
   ],
   "source": [
    "tfidfvect.get_feature_names()[:15]"
   ]
  },
  {
   "cell_type": "code",
   "execution_count": 139,
   "metadata": {},
   "outputs": [
    {
     "name": "stdout",
     "output_type": "stream",
     "text": [
      "(6826, 7)\n",
      "(2926, 7)\n"
     ]
    }
   ],
   "source": [
    "from sklearn.preprocessing import Normalizer\n",
    "\n",
    "normal = Normalizer()\n",
    "cols = list(xUsa.columns)\n",
    "cols.remove('cleanTitle')\n",
    "cols.remove('cleanText')\n",
    "cols.remove('author')\n",
    "cols.remove('site_url')\n",
    "cols.remove('type')\n",
    "\n",
    "\n",
    "normal.fit( xtr[cols].values )\n",
    "\n",
    "xtrNum = normal.transform( xtr[cols].values )\n",
    "xteNum = normal.transform( xte[cols].values )\n",
    "\n",
    "print( xtrNum.shape )\n",
    "print( xteNum.shape )"
   ]
  },
  {
   "cell_type": "code",
   "execution_count": 140,
   "metadata": {},
   "outputs": [
    {
     "data": {
      "text/plain": [
       "array([1.00000000e+00, 0.00000000e+00, 0.00000000e+00, 1.09664755e-05,\n",
       "       0.00000000e+00, 0.00000000e+00, 0.00000000e+00])"
      ]
     },
     "execution_count": 140,
     "metadata": {},
     "output_type": "execute_result"
    }
   ],
   "source": [
    "xtrNum[0]"
   ]
  },
  {
   "cell_type": "code",
   "execution_count": 141,
   "metadata": {},
   "outputs": [
    {
     "data": {
      "text/plain": [
       "domain_rank           91187.0\n",
       "spam_score                0.0\n",
       "replies_count             0.0\n",
       "participants_count        1.0\n",
       "likes                     0.0\n",
       "comments                  0.0\n",
       "shares                    0.0\n",
       "Name: 7168, dtype: float64"
      ]
     },
     "execution_count": 141,
     "metadata": {},
     "output_type": "execute_result"
    }
   ],
   "source": [
    "xtr[cols].iloc[0]"
   ]
  },
  {
   "cell_type": "code",
   "execution_count": 142,
   "metadata": {},
   "outputs": [
    {
     "name": "stdout",
     "output_type": "stream",
     "text": [
      "(6826, 2438)\n",
      "(2926, 2438)\n"
     ]
    }
   ],
   "source": [
    "from sklearn.feature_extraction.text import CountVectorizer\n",
    "\n",
    "vectorizer = CountVectorizer()\n",
    "vectorizer.fit( xtr['author'].values )\n",
    "\n",
    "xtrAuth = vectorizer.transform( xtr['author'].values )\n",
    "xteAuth = vectorizer.transform( xte['author'].values )\n",
    "\n",
    "print( xtrAuth.shape )\n",
    "print( xteAuth.shape )"
   ]
  },
  {
   "cell_type": "code",
   "execution_count": 143,
   "metadata": {},
   "outputs": [
    {
     "data": {
      "text/plain": [
       "['albert',\n",
       " 'albrecht',\n",
       " 'alert',\n",
       " 'alex',\n",
       " 'alexa',\n",
       " 'alexander',\n",
       " 'alexandria',\n",
       " 'alexis',\n",
       " 'alexmark',\n",
       " 'ali',\n",
       " 'alice',\n",
       " 'alisha',\n",
       " 'allan',\n",
       " 'allen',\n",
       " 'allie',\n",
       " 'allison',\n",
       " 'aloe',\n",
       " 'alpert',\n",
       " 'alresky',\n",
       " 'altruistic']"
      ]
     },
     "execution_count": 143,
     "metadata": {},
     "output_type": "execute_result"
    }
   ],
   "source": [
    "vectorizer.get_feature_names()[95:115]"
   ]
  },
  {
   "cell_type": "code",
   "execution_count": 144,
   "metadata": {},
   "outputs": [
    {
     "name": "stdout",
     "output_type": "stream",
     "text": [
      "(6826, 202)\n",
      "(2926, 202)\n"
     ]
    }
   ],
   "source": [
    "from sklearn.feature_extraction.text import CountVectorizer\n",
    "\n",
    "vectorizer = CountVectorizer()\n",
    "vectorizer.fit( xtr['site_url'].values )\n",
    "\n",
    "xtrURL = vectorizer.transform( xtr['site_url'].values )\n",
    "xteURL = vectorizer.transform( xte['site_url'].values )\n",
    "\n",
    "print( xtrURL.shape )\n",
    "print( xteURL.shape )"
   ]
  },
  {
   "cell_type": "code",
   "execution_count": 145,
   "metadata": {},
   "outputs": [
    {
     "data": {
      "text/plain": [
       "['miniplanet',\n",
       " 'mintpressnews',\n",
       " 'moonofalabama',\n",
       " 'morningnewsusa',\n",
       " 'nakedcapitalism',\n",
       " 'naturalblaze',\n",
       " 'naturalnews',\n",
       " 'neo',\n",
       " 'net',\n",
       " 'newcenturytimes',\n",
       " 'newstarget',\n",
       " 'newsthump',\n",
       " 'nutritionfacts',\n",
       " 'occupydemocrats',\n",
       " 'off',\n",
       " 'opednews',\n",
       " 'org',\n",
       " 'other98',\n",
       " 'out',\n",
       " 'pakalertpress']"
      ]
     },
     "execution_count": 145,
     "metadata": {},
     "output_type": "execute_result"
    }
   ],
   "source": [
    "vectorizer.get_feature_names()[95:115]"
   ]
  },
  {
   "cell_type": "code",
   "execution_count": 146,
   "metadata": {},
   "outputs": [
    {
     "name": "stdout",
     "output_type": "stream",
     "text": [
      "(6826, 3733) (6826,)\n",
      "(2926, 3733) (2926,)\n"
     ]
    }
   ],
   "source": [
    "# Merging the data together after Processing\n",
    "\n",
    "from scipy.sparse import hstack\n",
    "\n",
    "xtr1 = hstack(( xtrTextTFIDF, xtrTitleTFIDF, xtrNum, xtrAuth, xtrURL )).tocsr()\n",
    "xte1 = hstack(( xteTextTFIDF, xteTitleTFIDF, xteNum, xteAuth, xteURL )).tocsr()\n",
    "\n",
    "print( xtr1.shape, ytr.shape )\n",
    "print( xte1.shape, yte.shape )"
   ]
  },
  {
   "cell_type": "markdown",
   "metadata": {},
   "source": [
    "## Choosing the right metric and building models\n",
    "<font size=3>    \n",
    "Accuracy might look tempting but not a good metric in general. In multilabel classification, for each class we'll have f1 score, precision, recall values etc. You need to decide how to average them, which is what the error is saying actually. The options are binary (which is the default one), micro, macro, weighted, samples. binary option needs positive and negative classes, and doesn't work in multilabel problems.\n",
    "\n",
    "micro option calculates TP,FP etc. globally, while macro does it specific to each class and averages them. weighted is the weighted version of macro average that accounts for class imbalance."
   ]
  },
  {
   "cell_type": "code",
   "execution_count": 192,
   "metadata": {},
   "outputs": [],
   "source": [
    "import sklearn\n",
    "\n",
    "scorer = sklearn.metrics.make_scorer(sklearn.metrics.f1_score, average = 'weighted')"
   ]
  },
  {
   "cell_type": "markdown",
   "metadata": {},
   "source": [
    "### Naive Bayes"
   ]
  },
  {
   "cell_type": "code",
   "execution_count": 150,
   "metadata": {},
   "outputs": [
    {
     "name": "stderr",
     "output_type": "stream",
     "text": [
      "D:\\Anaconda\\lib\\site-packages\\sklearn\\model_selection\\_split.py:667: UserWarning: The least populated class in y has only 5 members, which is less than n_splits=15.\n",
      "  % (min_groups, self.n_splits)), UserWarning)\n"
     ]
    },
    {
     "name": "stdout",
     "output_type": "stream",
     "text": [
      "Best parameters : {'alpha': 1e-05}\n",
      "\n",
      "Grid scores :\n",
      "\n",
      "0.988 (+/-0.009) for {'alpha': 1e-06}\n",
      "0.989 (+/-0.009) for {'alpha': 1e-05}\n",
      "0.989 (+/-0.009) for {'alpha': 0.0001}\n",
      "0.987 (+/-0.012) for {'alpha': 0.001}\n",
      "0.980 (+/-0.011) for {'alpha': 0.01}\n",
      "0.974 (+/-0.012) for {'alpha': 0.1}\n",
      "0.963 (+/-0.011) for {'alpha': 1}\n",
      "0.836 (+/-0.003) for {'alpha': 10}\n",
      "0.836 (+/-0.003) for {'alpha': 100}\n",
      "0.836 (+/-0.003) for {'alpha': 1000}\n",
      "\n"
     ]
    }
   ],
   "source": [
    "from sklearn.naive_bayes import MultinomialNB\n",
    "from sklearn.metrics import confusion_matrix, classification_report \n",
    "from sklearn.model_selection import GridSearchCV\n",
    "\n",
    "tuned_parameters = [{'alpha':[10**-6, 10**-5, 10**-4, 10**-3, 10**-2, 0.1, 1, 10, 100, 1000 ]  }]\n",
    "\n",
    "\n",
    "clf = GridSearchCV( MultinomialNB(), tuned_parameters, cv=15, scoring=scorer, n_jobs = -1)\n",
    "clf.fit(xtr1, ytr)\n",
    "\n",
    "print(\"Best parameters :\",clf.best_params_)\n",
    "print(\"\\nGrid scores :\")\n",
    "print()\n",
    "\n",
    "means = clf.cv_results_['mean_test_score']\n",
    "stds = clf.cv_results_['std_test_score']\n",
    "\n",
    "for mean, std, params in zip( means, stds, clf.cv_results_['params'] ):\n",
    "    print(\"%0.3f (+/-%0.03f) for %r\" % (mean, std * 2, params))\n",
    "print()"
   ]
  },
  {
   "cell_type": "code",
   "execution_count": 165,
   "metadata": {},
   "outputs": [
    {
     "name": "stdout",
     "output_type": "stream",
     "text": [
      "Train Classification Report :-\n",
      "               precision    recall  f1-score   support\n",
      "\n",
      "        bias       1.00      1.00      1.00       223\n",
      "          bs       1.00      1.00      1.00      6064\n",
      "  conspiracy       1.00      1.00      1.00       212\n",
      "        fake       1.00      1.00      1.00        13\n",
      "        hate       1.00      1.00      1.00       169\n",
      "     junksci       1.00      1.00      1.00        70\n",
      "      satire       1.00      1.00      1.00        70\n",
      "       state       1.00      1.00      1.00         5\n",
      "\n",
      "    accuracy                           1.00      6826\n",
      "   macro avg       1.00      1.00      1.00      6826\n",
      "weighted avg       1.00      1.00      1.00      6826\n",
      "\n",
      "\n",
      "\n",
      "Test Classification Report :-\n",
      "               precision    recall  f1-score   support\n",
      "\n",
      "        bias       0.97      0.97      0.97        96\n",
      "          bs       0.99      1.00      1.00      2599\n",
      "  conspiracy       0.98      0.96      0.97        91\n",
      "        fake       0.00      0.00      0.00         5\n",
      "        hate       0.97      0.93      0.95        73\n",
      "     junksci       1.00      0.93      0.97        30\n",
      "      satire       1.00      0.93      0.97        30\n",
      "       state       0.00      0.00      0.00         2\n",
      "\n",
      "    accuracy                           0.99      2926\n",
      "   macro avg       0.74      0.72      0.73      2926\n",
      "weighted avg       0.99      0.99      0.99      2926\n",
      "\n"
     ]
    },
    {
     "name": "stderr",
     "output_type": "stream",
     "text": [
      "D:\\Anaconda\\lib\\site-packages\\sklearn\\metrics\\_classification.py:1272: UndefinedMetricWarning: Precision and F-score are ill-defined and being set to 0.0 in labels with no predicted samples. Use `zero_division` parameter to control this behavior.\n",
      "  _warn_prf(average, modifier, msg_start, len(result))\n"
     ]
    }
   ],
   "source": [
    "# Finalising the model and checking on Test Data\n",
    "\n",
    "model = MultinomialNB( alpha = 1e-05 )\n",
    "model.fit(xtr1, ytr)\n",
    "\n",
    "pte = model.predict( xte1 ) \n",
    "ptr = model.predict( xtr1 ) \n",
    "\n",
    "# print classification report \n",
    "print('Train Classification Report :-\\n',classification_report( ytr, ptr ) ) \n",
    "print('\\n\\nTest Classification Report :-\\n',classification_report( yte, pte ) ) "
   ]
  },
  {
   "cell_type": "code",
   "execution_count": 160,
   "metadata": {},
   "outputs": [
    {
     "data": {
      "text/plain": [
       "['bias', 'bs', 'conspiracy', 'fake', 'hate', 'junksci', 'satire', 'state']"
      ]
     },
     "execution_count": 160,
     "metadata": {},
     "output_type": "execute_result"
    }
   ],
   "source": [
    "labels = list(ytr.unique())\n",
    "labels.sort()\n",
    "labels"
   ]
  },
  {
   "cell_type": "code",
   "execution_count": 186,
   "metadata": {},
   "outputs": [],
   "source": [
    "import matplotlib.pyplot as plt\n",
    "import seaborn as sns\n",
    "import numpy as np\n",
    "\n",
    "def plotCM( confMat, title ):\n",
    "    plt.figure( figsize=(13,8))\n",
    "\n",
    "    ax=sns.heatmap(\n",
    "        confMat, \n",
    "        vmin=-1, vmax=1, center=0,\n",
    "        fmt=\".1f\",\n",
    "        cmap=sns.diverging_palette(20, 220, n=200),\n",
    "        xticklabels=labels, yticklabels=labels,\n",
    "        #cmap='Blues_r',\n",
    "        annot=True,\n",
    "        cbar=False\n",
    "    )\n",
    "\n",
    "    ax.set_xticklabels(\n",
    "        ax.get_xticklabels(),\n",
    "        rotation=45,\n",
    "        horizontalalignment='right'\n",
    "    )\n",
    "    ax.set_yticklabels(\n",
    "        ax.get_yticklabels(),\n",
    "        rotation=45,\n",
    "        horizontalalignment='right'\n",
    "    )\n",
    "    plt.ylabel('True label', size=18)\n",
    "    plt.xlabel('Predicted label', size=18)\n",
    "    plt.title('Confusion Matrix for '+title, size=14)\n",
    "    plt.show()"
   ]
  },
  {
   "cell_type": "code",
   "execution_count": 187,
   "metadata": {},
   "outputs": [
    {
     "data": {
      "image/png": "[encoded data removed]",
      "text/plain": [
       "<Figure size 936x576 with 1 Axes>"
      ]
     },
     "metadata": {
      "needs_background": "light"
     },
     "output_type": "display_data"
    }
   ],
   "source": [
    "plotCM( confusion_matrix( ytr, ptr ), 'Train Data' )"
   ]
  },
  {
   "cell_type": "code",
   "execution_count": 188,
   "metadata": {},
   "outputs": [
    {
     "data": {
      "image/png": "[encoded data removed]",
      "text/plain": [
       "<Figure size 936x576 with 1 Axes>"
      ]
     },
     "metadata": {
      "needs_background": "light"
     },
     "output_type": "display_data"
    }
   ],
   "source": [
    "plotCM( confusion_matrix( yte, pte ), 'Test Data' )"
   ]
  },
  {
   "cell_type": "markdown",
   "metadata": {},
   "source": [
    "### Ensemble - Random Forest"
   ]
  },
  {
   "cell_type": "code",
   "execution_count": 194,
   "metadata": {},
   "outputs": [
    {
     "name": "stderr",
     "output_type": "stream",
     "text": [
      "D:\\Anaconda\\lib\\site-packages\\sklearn\\model_selection\\_split.py:667: UserWarning: The least populated class in y has only 5 members, which is less than n_splits=15.\n",
      "  % (min_groups, self.n_splits)), UserWarning)\n"
     ]
    },
    {
     "name": "stdout",
     "output_type": "stream",
     "text": [
      "Best parameters : {'max_depth': 50, 'max_features': 'auto', 'n_estimators': 400}\n",
      "\n",
      "Grid scores :\n",
      "\n",
      "0.836 (+/-0.003) for {'max_depth': 5, 'max_features': 'auto', 'n_estimators': 200}\n",
      "0.836 (+/-0.003) for {'max_depth': 5, 'max_features': 'auto', 'n_estimators': 400}\n",
      "0.836 (+/-0.003) for {'max_depth': 5, 'max_features': 'sqrt', 'n_estimators': 200}\n",
      "0.836 (+/-0.003) for {'max_depth': 5, 'max_features': 'sqrt', 'n_estimators': 400}\n",
      "0.838 (+/-0.006) for {'max_depth': 10, 'max_features': 'auto', 'n_estimators': 200}\n",
      "0.838 (+/-0.006) for {'max_depth': 10, 'max_features': 'auto', 'n_estimators': 400}\n",
      "0.838 (+/-0.006) for {'max_depth': 10, 'max_features': 'sqrt', 'n_estimators': 200}\n",
      "0.839 (+/-0.006) for {'max_depth': 10, 'max_features': 'sqrt', 'n_estimators': 400}\n",
      "0.874 (+/-0.023) for {'max_depth': 15, 'max_features': 'auto', 'n_estimators': 200}\n",
      "0.871 (+/-0.015) for {'max_depth': 15, 'max_features': 'auto', 'n_estimators': 400}\n",
      "0.873 (+/-0.033) for {'max_depth': 15, 'max_features': 'sqrt', 'n_estimators': 200}\n",
      "0.867 (+/-0.022) for {'max_depth': 15, 'max_features': 'sqrt', 'n_estimators': 400}\n",
      "0.958 (+/-0.019) for {'max_depth': 30, 'max_features': 'auto', 'n_estimators': 200}\n",
      "0.960 (+/-0.015) for {'max_depth': 30, 'max_features': 'auto', 'n_estimators': 400}\n",
      "0.958 (+/-0.015) for {'max_depth': 30, 'max_features': 'sqrt', 'n_estimators': 200}\n",
      "0.959 (+/-0.016) for {'max_depth': 30, 'max_features': 'sqrt', 'n_estimators': 400}\n",
      "0.990 (+/-0.011) for {'max_depth': 50, 'max_features': 'auto', 'n_estimators': 200}\n",
      "0.991 (+/-0.008) for {'max_depth': 50, 'max_features': 'auto', 'n_estimators': 400}\n",
      "0.990 (+/-0.011) for {'max_depth': 50, 'max_features': 'sqrt', 'n_estimators': 200}\n",
      "0.991 (+/-0.010) for {'max_depth': 50, 'max_features': 'sqrt', 'n_estimators': 400}\n",
      "\n"
     ]
    }
   ],
   "source": [
    "from sklearn.ensemble import RandomForestClassifier\n",
    "\n",
    "tuned_parameters = [{'max_depth':[5, 10, 15, 30, 50], 'max_features': ['auto', 'sqrt'], 'n_estimators': [200, 400] }]\n",
    "\n",
    "\n",
    "rf = GridSearchCV( RandomForestClassifier(), tuned_parameters, cv=15, scoring= scorer, n_jobs = -1)\n",
    "rf.fit(xtr1, ytr)\n",
    "\n",
    "print(\"Best parameters :\",rf.best_params_)\n",
    "print(\"\\nGrid scores :\")\n",
    "print()\n",
    "\n",
    "means = rf.cv_results_['mean_test_score']\n",
    "stds = rf.cv_results_['std_test_score']\n",
    "\n",
    "for mean, std, params in zip( means, stds, rf.cv_results_['params'] ):\n",
    "    print(\"%0.3f (+/-%0.03f) for %r\" % (mean, std * 2, params))\n",
    "print()"
   ]
  },
  {
   "cell_type": "code",
   "execution_count": 195,
   "metadata": {},
   "outputs": [
    {
     "name": "stdout",
     "output_type": "stream",
     "text": [
      "Train Classification Report :-\n",
      "               precision    recall  f1-score   support\n",
      "\n",
      "        bias       1.00      1.00      1.00       223\n",
      "          bs       1.00      1.00      1.00      6064\n",
      "  conspiracy       1.00      1.00      1.00       212\n",
      "        fake       1.00      0.85      0.92        13\n",
      "        hate       1.00      0.99      1.00       169\n",
      "     junksci       1.00      1.00      1.00        70\n",
      "      satire       1.00      1.00      1.00        70\n",
      "       state       1.00      1.00      1.00         5\n",
      "\n",
      "    accuracy                           1.00      6826\n",
      "   macro avg       1.00      0.98      0.99      6826\n",
      "weighted avg       1.00      1.00      1.00      6826\n",
      "\n",
      "\n",
      "\n",
      "Test Classification Report :-\n",
      "               precision    recall  f1-score   support\n",
      "\n",
      "        bias       1.00      0.96      0.98        96\n",
      "          bs       0.99      1.00      1.00      2599\n",
      "  conspiracy       0.99      0.98      0.98        91\n",
      "        fake       0.00      0.00      0.00         5\n",
      "        hate       1.00      0.95      0.97        73\n",
      "     junksci       1.00      1.00      1.00        30\n",
      "      satire       1.00      1.00      1.00        30\n",
      "       state       0.00      0.00      0.00         2\n",
      "\n",
      "    accuracy                           0.99      2926\n",
      "   macro avg       0.75      0.74      0.74      2926\n",
      "weighted avg       0.99      0.99      0.99      2926\n",
      "\n"
     ]
    },
    {
     "name": "stderr",
     "output_type": "stream",
     "text": [
      "D:\\Anaconda\\lib\\site-packages\\sklearn\\metrics\\_classification.py:1272: UndefinedMetricWarning: Precision and F-score are ill-defined and being set to 0.0 in labels with no predicted samples. Use `zero_division` parameter to control this behavior.\n",
      "  _warn_prf(average, modifier, msg_start, len(result))\n"
     ]
    }
   ],
   "source": [
    "# Finalising the model and checking on Test Data\n",
    "\n",
    "model = RandomForestClassifier( max_depth= 50, max_features= 'auto', n_estimators= 400 )\n",
    "model.fit(xtr1, ytr)\n",
    "\n",
    "pte = model.predict( xte1 ) \n",
    "ptr = model.predict( xtr1 ) \n",
    "\n",
    "# print classification report \n",
    "print('Train Classification Report :-\\n',classification_report( ytr, ptr ) ) \n",
    "print('\\n\\nTest Classification Report :-\\n',classification_report( yte, pte ) ) "
   ]
  },
  {
   "cell_type": "code",
   "execution_count": 197,
   "metadata": {},
   "outputs": [
    {
     "data": {
      "image/png": "[encoded data removed]",
      "text/plain": [
       "<Figure size 936x576 with 1 Axes>"
      ]
     },
     "metadata": {
      "needs_background": "light"
     },
     "output_type": "display_data"
    }
   ],
   "source": [
    "plotCM( confusion_matrix( ytr, ptr ), 'Train Data' )"
   ]
  },
  {
   "cell_type": "code",
   "execution_count": 198,
   "metadata": {},
   "outputs": [
    {
     "data": {
      "image/png": "[encoded data removed]",
      "text/plain": [
       "<Figure size 936x576 with 1 Axes>"
      ]
     },
     "metadata": {
      "needs_background": "light"
     },
     "output_type": "display_data"
    }
   ],
   "source": [
    "plotCM( confusion_matrix( yte, pte ), 'Train Data' )"
   ]
  }
 ],
 "metadata": {
  "kernelspec": {
   "display_name": "Python 3",
   "language": "python",
   "name": "python3"
  },
  "language_info": {
   "codemirror_mode": {
    "name": "ipython",
    "version": 3
   },
   "file_extension": ".py",
   "mimetype": "text/x-python",
   "name": "python",
   "nbconvert_exporter": "python",
   "pygments_lexer": "ipython3",
   "version": "3.6.10"
  }
 },
 "nbformat": 4,
 "nbformat_minor": 4
}
