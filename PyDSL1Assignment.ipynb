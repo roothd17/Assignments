{
 "cells": [
  {
   "cell_type": "markdown",
   "metadata": {},
   "source": [
    "# Python for Data Science L1 Assignment \n",
    "###                 - Harsh Dhaundiyal"
   ]
  },
  {
   "cell_type": "markdown",
   "metadata": {},
   "source": [
    "## 1&2. Movie Lens data problem"
   ]
  },
  {
   "cell_type": "code",
   "execution_count": 100,
   "metadata": {},
   "outputs": [],
   "source": [
    "import os\n",
    "\n",
    "os.chdir('E:\\Datasets\\ml-1m')"
   ]
  },
  {
   "cell_type": "code",
   "execution_count": 101,
   "metadata": {},
   "outputs": [
    {
     "name": "stdout",
     "output_type": "stream",
     "text": [
      "(3883, 3)\n"
     ]
    },
    {
     "name": "stderr",
     "output_type": "stream",
     "text": [
      "D:\\Anaconda\\lib\\site-packages\\ipykernel_launcher.py:3: ParserWarning: Falling back to the 'python' engine because the 'c' engine does not support regex separators (separators > 1 char and different from '\\s+' are interpreted as regex); you can avoid this warning by specifying engine='python'.\n",
      "  This is separate from the ipykernel package so we can avoid doing imports until\n"
     ]
    },
    {
     "data": {
      "text/html": [
       "<div>\n",
       "<style scoped>\n",
       "    .dataframe tbody tr th:only-of-type {\n",
       "        vertical-align: middle;\n",
       "    }\n",
       "\n",
       "    .dataframe tbody tr th {\n",
       "        vertical-align: top;\n",
       "    }\n",
       "\n",
       "    .dataframe thead th {\n",
       "        text-align: right;\n",
       "    }\n",
       "</style>\n",
       "<table border=\"1\" class=\"dataframe\">\n",
       "  <thead>\n",
       "    <tr style=\"text-align: right;\">\n",
       "      <th></th>\n",
       "      <th>mId</th>\n",
       "      <th>mTitle</th>\n",
       "      <th>mGenre</th>\n",
       "    </tr>\n",
       "  </thead>\n",
       "  <tbody>\n",
       "    <tr>\n",
       "      <th>0</th>\n",
       "      <td>1</td>\n",
       "      <td>Toy Story (1995)</td>\n",
       "      <td>Animation|Children's|Comedy</td>\n",
       "    </tr>\n",
       "    <tr>\n",
       "      <th>1</th>\n",
       "      <td>2</td>\n",
       "      <td>Jumanji (1995)</td>\n",
       "      <td>Adventure|Children's|Fantasy</td>\n",
       "    </tr>\n",
       "    <tr>\n",
       "      <th>2</th>\n",
       "      <td>3</td>\n",
       "      <td>Grumpier Old Men (1995)</td>\n",
       "      <td>Comedy|Romance</td>\n",
       "    </tr>\n",
       "    <tr>\n",
       "      <th>3</th>\n",
       "      <td>4</td>\n",
       "      <td>Waiting to Exhale (1995)</td>\n",
       "      <td>Comedy|Drama</td>\n",
       "    </tr>\n",
       "    <tr>\n",
       "      <th>4</th>\n",
       "      <td>5</td>\n",
       "      <td>Father of the Bride Part II (1995)</td>\n",
       "      <td>Comedy</td>\n",
       "    </tr>\n",
       "  </tbody>\n",
       "</table>\n",
       "</div>"
      ],
      "text/plain": [
       "   mId                              mTitle                        mGenre\n",
       "0    1                    Toy Story (1995)   Animation|Children's|Comedy\n",
       "1    2                      Jumanji (1995)  Adventure|Children's|Fantasy\n",
       "2    3             Grumpier Old Men (1995)                Comedy|Romance\n",
       "3    4            Waiting to Exhale (1995)                  Comedy|Drama\n",
       "4    5  Father of the Bride Part II (1995)                        Comedy"
      ]
     },
     "execution_count": 101,
     "metadata": {},
     "output_type": "execute_result"
    }
   ],
   "source": [
    "import pandas as pd\n",
    "\n",
    "movie = pd.read_csv('movies.csv', sep=\"::\", names=['mId', 'mTitle', 'mGenre'])\n",
    "print( movie.shape )\n",
    "movie.head()"
   ]
  },
  {
   "cell_type": "code",
   "execution_count": 102,
   "metadata": {},
   "outputs": [
    {
     "name": "stdout",
     "output_type": "stream",
     "text": [
      "(6040, 5)\n"
     ]
    },
    {
     "name": "stderr",
     "output_type": "stream",
     "text": [
      "D:\\Anaconda\\lib\\site-packages\\ipykernel_launcher.py:1: ParserWarning: Falling back to the 'python' engine because the 'c' engine does not support regex separators (separators > 1 char and different from '\\s+' are interpreted as regex); you can avoid this warning by specifying engine='python'.\n",
      "  \"\"\"Entry point for launching an IPython kernel.\n"
     ]
    },
    {
     "data": {
      "text/html": [
       "<div>\n",
       "<style scoped>\n",
       "    .dataframe tbody tr th:only-of-type {\n",
       "        vertical-align: middle;\n",
       "    }\n",
       "\n",
       "    .dataframe tbody tr th {\n",
       "        vertical-align: top;\n",
       "    }\n",
       "\n",
       "    .dataframe thead th {\n",
       "        text-align: right;\n",
       "    }\n",
       "</style>\n",
       "<table border=\"1\" class=\"dataframe\">\n",
       "  <thead>\n",
       "    <tr style=\"text-align: right;\">\n",
       "      <th></th>\n",
       "      <th>uId</th>\n",
       "      <th>uGender</th>\n",
       "      <th>uAge</th>\n",
       "      <th>uOccupation</th>\n",
       "      <th>zipcode</th>\n",
       "    </tr>\n",
       "  </thead>\n",
       "  <tbody>\n",
       "    <tr>\n",
       "      <th>0</th>\n",
       "      <td>1</td>\n",
       "      <td>F</td>\n",
       "      <td>1</td>\n",
       "      <td>10</td>\n",
       "      <td>48067</td>\n",
       "    </tr>\n",
       "    <tr>\n",
       "      <th>1</th>\n",
       "      <td>2</td>\n",
       "      <td>M</td>\n",
       "      <td>56</td>\n",
       "      <td>16</td>\n",
       "      <td>70072</td>\n",
       "    </tr>\n",
       "    <tr>\n",
       "      <th>2</th>\n",
       "      <td>3</td>\n",
       "      <td>M</td>\n",
       "      <td>25</td>\n",
       "      <td>15</td>\n",
       "      <td>55117</td>\n",
       "    </tr>\n",
       "    <tr>\n",
       "      <th>3</th>\n",
       "      <td>4</td>\n",
       "      <td>M</td>\n",
       "      <td>45</td>\n",
       "      <td>7</td>\n",
       "      <td>02460</td>\n",
       "    </tr>\n",
       "    <tr>\n",
       "      <th>4</th>\n",
       "      <td>5</td>\n",
       "      <td>M</td>\n",
       "      <td>25</td>\n",
       "      <td>20</td>\n",
       "      <td>55455</td>\n",
       "    </tr>\n",
       "  </tbody>\n",
       "</table>\n",
       "</div>"
      ],
      "text/plain": [
       "   uId uGender  uAge  uOccupation zipcode\n",
       "0    1       F     1           10   48067\n",
       "1    2       M    56           16   70072\n",
       "2    3       M    25           15   55117\n",
       "3    4       M    45            7   02460\n",
       "4    5       M    25           20   55455"
      ]
     },
     "execution_count": 102,
     "metadata": {},
     "output_type": "execute_result"
    }
   ],
   "source": [
    "user = pd.read_csv('users.csv', sep=\"::\", names=['uId', 'uGender', 'uAge', 'uOccupation', 'zipcode'])\n",
    "'''\n",
    "- Age is chosen from the following ranges:\n",
    "\n",
    "*  1:  \"Under 18\"\n",
    "* 18:  \"18-24\"\n",
    "* 25:  \"25-34\"\n",
    "* 35:  \"35-44\"\n",
    "* 45:  \"45-49\"\n",
    "* 50:  \"50-55\"\n",
    "* 56:  \"56+\"\n",
    "'''\n",
    "\n",
    "print( user.shape )\n",
    "user.head()"
   ]
  },
  {
   "cell_type": "code",
   "execution_count": 103,
   "metadata": {},
   "outputs": [
    {
     "name": "stderr",
     "output_type": "stream",
     "text": [
      "D:\\Anaconda\\lib\\site-packages\\ipykernel_launcher.py:1: ParserWarning: Falling back to the 'python' engine because the 'c' engine does not support regex separators (separators > 1 char and different from '\\s+' are interpreted as regex); you can avoid this warning by specifying engine='python'.\n",
      "  \"\"\"Entry point for launching an IPython kernel.\n"
     ]
    },
    {
     "name": "stdout",
     "output_type": "stream",
     "text": [
      "(1000209, 4)\n"
     ]
    },
    {
     "data": {
      "text/html": [
       "<div>\n",
       "<style scoped>\n",
       "    .dataframe tbody tr th:only-of-type {\n",
       "        vertical-align: middle;\n",
       "    }\n",
       "\n",
       "    .dataframe tbody tr th {\n",
       "        vertical-align: top;\n",
       "    }\n",
       "\n",
       "    .dataframe thead th {\n",
       "        text-align: right;\n",
       "    }\n",
       "</style>\n",
       "<table border=\"1\" class=\"dataframe\">\n",
       "  <thead>\n",
       "    <tr style=\"text-align: right;\">\n",
       "      <th></th>\n",
       "      <th>uId</th>\n",
       "      <th>mId</th>\n",
       "      <th>rating</th>\n",
       "      <th>timestamp</th>\n",
       "    </tr>\n",
       "  </thead>\n",
       "  <tbody>\n",
       "    <tr>\n",
       "      <th>0</th>\n",
       "      <td>1</td>\n",
       "      <td>1193</td>\n",
       "      <td>5</td>\n",
       "      <td>978300760</td>\n",
       "    </tr>\n",
       "    <tr>\n",
       "      <th>1</th>\n",
       "      <td>1</td>\n",
       "      <td>661</td>\n",
       "      <td>3</td>\n",
       "      <td>978302109</td>\n",
       "    </tr>\n",
       "    <tr>\n",
       "      <th>2</th>\n",
       "      <td>1</td>\n",
       "      <td>914</td>\n",
       "      <td>3</td>\n",
       "      <td>978301968</td>\n",
       "    </tr>\n",
       "    <tr>\n",
       "      <th>3</th>\n",
       "      <td>1</td>\n",
       "      <td>3408</td>\n",
       "      <td>4</td>\n",
       "      <td>978300275</td>\n",
       "    </tr>\n",
       "    <tr>\n",
       "      <th>4</th>\n",
       "      <td>1</td>\n",
       "      <td>2355</td>\n",
       "      <td>5</td>\n",
       "      <td>978824291</td>\n",
       "    </tr>\n",
       "  </tbody>\n",
       "</table>\n",
       "</div>"
      ],
      "text/plain": [
       "   uId   mId  rating  timestamp\n",
       "0    1  1193       5  978300760\n",
       "1    1   661       3  978302109\n",
       "2    1   914       3  978301968\n",
       "3    1  3408       4  978300275\n",
       "4    1  2355       5  978824291"
      ]
     },
     "execution_count": 103,
     "metadata": {},
     "output_type": "execute_result"
    }
   ],
   "source": [
    "rating = pd.read_csv('ratings.csv', sep=\"::\", names=['uId', 'mId', 'rating', 'timestamp'], encoding='utf-8')\n",
    "print( rating.shape )\n",
    "rating.head()\n",
    "\n",
    "#- Timestamp is represented in seconds since the epoch as returned by time(2)\n",
    "#- Each user has at least 20 ratings\n",
    "# - Ratings are made on a 5-star scale (whole-star ratings only)"
   ]
  },
  {
   "cell_type": "markdown",
   "metadata": {},
   "source": [
    "### 1. Do a merge of all the three files movies.csv, users.csv and ratings.csv in an appropriate way as one csv file namely movies_integrated.csv by using a common column id present in each data file"
   ]
  },
  {
   "cell_type": "code",
   "execution_count": 104,
   "metadata": {},
   "outputs": [
    {
     "name": "stdout",
     "output_type": "stream",
     "text": [
      "(1000209, 6)\n"
     ]
    },
    {
     "data": {
      "text/html": [
       "<div>\n",
       "<style scoped>\n",
       "    .dataframe tbody tr th:only-of-type {\n",
       "        vertical-align: middle;\n",
       "    }\n",
       "\n",
       "    .dataframe tbody tr th {\n",
       "        vertical-align: top;\n",
       "    }\n",
       "\n",
       "    .dataframe thead th {\n",
       "        text-align: right;\n",
       "    }\n",
       "</style>\n",
       "<table border=\"1\" class=\"dataframe\">\n",
       "  <thead>\n",
       "    <tr style=\"text-align: right;\">\n",
       "      <th></th>\n",
       "      <th>uId</th>\n",
       "      <th>mId</th>\n",
       "      <th>rating</th>\n",
       "      <th>timestamp</th>\n",
       "      <th>mTitle</th>\n",
       "      <th>mGenre</th>\n",
       "    </tr>\n",
       "  </thead>\n",
       "  <tbody>\n",
       "    <tr>\n",
       "      <th>0</th>\n",
       "      <td>1</td>\n",
       "      <td>1193</td>\n",
       "      <td>5</td>\n",
       "      <td>978300760</td>\n",
       "      <td>One Flew Over the Cuckoo's Nest (1975)</td>\n",
       "      <td>Drama</td>\n",
       "    </tr>\n",
       "    <tr>\n",
       "      <th>1</th>\n",
       "      <td>2</td>\n",
       "      <td>1193</td>\n",
       "      <td>5</td>\n",
       "      <td>978298413</td>\n",
       "      <td>One Flew Over the Cuckoo's Nest (1975)</td>\n",
       "      <td>Drama</td>\n",
       "    </tr>\n",
       "    <tr>\n",
       "      <th>2</th>\n",
       "      <td>12</td>\n",
       "      <td>1193</td>\n",
       "      <td>4</td>\n",
       "      <td>978220179</td>\n",
       "      <td>One Flew Over the Cuckoo's Nest (1975)</td>\n",
       "      <td>Drama</td>\n",
       "    </tr>\n",
       "    <tr>\n",
       "      <th>3</th>\n",
       "      <td>15</td>\n",
       "      <td>1193</td>\n",
       "      <td>4</td>\n",
       "      <td>978199279</td>\n",
       "      <td>One Flew Over the Cuckoo's Nest (1975)</td>\n",
       "      <td>Drama</td>\n",
       "    </tr>\n",
       "    <tr>\n",
       "      <th>4</th>\n",
       "      <td>17</td>\n",
       "      <td>1193</td>\n",
       "      <td>5</td>\n",
       "      <td>978158471</td>\n",
       "      <td>One Flew Over the Cuckoo's Nest (1975)</td>\n",
       "      <td>Drama</td>\n",
       "    </tr>\n",
       "  </tbody>\n",
       "</table>\n",
       "</div>"
      ],
      "text/plain": [
       "   uId   mId  rating  timestamp                                  mTitle mGenre\n",
       "0    1  1193       5  978300760  One Flew Over the Cuckoo's Nest (1975)  Drama\n",
       "1    2  1193       5  978298413  One Flew Over the Cuckoo's Nest (1975)  Drama\n",
       "2   12  1193       4  978220179  One Flew Over the Cuckoo's Nest (1975)  Drama\n",
       "3   15  1193       4  978199279  One Flew Over the Cuckoo's Nest (1975)  Drama\n",
       "4   17  1193       5  978158471  One Flew Over the Cuckoo's Nest (1975)  Drama"
      ]
     },
     "execution_count": 104,
     "metadata": {},
     "output_type": "execute_result"
    }
   ],
   "source": [
    "# (Movies - Ratings) - Users\n",
    "# Merging movie and rating dataframe\n",
    "\n",
    "result1 = pd.merge(rating, movie, on='mId')\n",
    "print( result1.shape )\n",
    "result1.head()"
   ]
  },
  {
   "cell_type": "code",
   "execution_count": 105,
   "metadata": {},
   "outputs": [
    {
     "name": "stdout",
     "output_type": "stream",
     "text": [
      "(1000209, 10)\n"
     ]
    },
    {
     "data": {
      "text/html": [
       "<div>\n",
       "<style scoped>\n",
       "    .dataframe tbody tr th:only-of-type {\n",
       "        vertical-align: middle;\n",
       "    }\n",
       "\n",
       "    .dataframe tbody tr th {\n",
       "        vertical-align: top;\n",
       "    }\n",
       "\n",
       "    .dataframe thead th {\n",
       "        text-align: right;\n",
       "    }\n",
       "</style>\n",
       "<table border=\"1\" class=\"dataframe\">\n",
       "  <thead>\n",
       "    <tr style=\"text-align: right;\">\n",
       "      <th></th>\n",
       "      <th>uId</th>\n",
       "      <th>mId</th>\n",
       "      <th>rating</th>\n",
       "      <th>timestamp</th>\n",
       "      <th>mTitle</th>\n",
       "      <th>mGenre</th>\n",
       "      <th>uGender</th>\n",
       "      <th>uAge</th>\n",
       "      <th>uOccupation</th>\n",
       "      <th>zipcode</th>\n",
       "    </tr>\n",
       "  </thead>\n",
       "  <tbody>\n",
       "    <tr>\n",
       "      <th>0</th>\n",
       "      <td>1</td>\n",
       "      <td>1193</td>\n",
       "      <td>5</td>\n",
       "      <td>978300760</td>\n",
       "      <td>One Flew Over the Cuckoo's Nest (1975)</td>\n",
       "      <td>Drama</td>\n",
       "      <td>F</td>\n",
       "      <td>1</td>\n",
       "      <td>10</td>\n",
       "      <td>48067</td>\n",
       "    </tr>\n",
       "    <tr>\n",
       "      <th>1</th>\n",
       "      <td>1</td>\n",
       "      <td>661</td>\n",
       "      <td>3</td>\n",
       "      <td>978302109</td>\n",
       "      <td>James and the Giant Peach (1996)</td>\n",
       "      <td>Animation|Children's|Musical</td>\n",
       "      <td>F</td>\n",
       "      <td>1</td>\n",
       "      <td>10</td>\n",
       "      <td>48067</td>\n",
       "    </tr>\n",
       "    <tr>\n",
       "      <th>2</th>\n",
       "      <td>1</td>\n",
       "      <td>914</td>\n",
       "      <td>3</td>\n",
       "      <td>978301968</td>\n",
       "      <td>My Fair Lady (1964)</td>\n",
       "      <td>Musical|Romance</td>\n",
       "      <td>F</td>\n",
       "      <td>1</td>\n",
       "      <td>10</td>\n",
       "      <td>48067</td>\n",
       "    </tr>\n",
       "    <tr>\n",
       "      <th>3</th>\n",
       "      <td>1</td>\n",
       "      <td>3408</td>\n",
       "      <td>4</td>\n",
       "      <td>978300275</td>\n",
       "      <td>Erin Brockovich (2000)</td>\n",
       "      <td>Drama</td>\n",
       "      <td>F</td>\n",
       "      <td>1</td>\n",
       "      <td>10</td>\n",
       "      <td>48067</td>\n",
       "    </tr>\n",
       "    <tr>\n",
       "      <th>4</th>\n",
       "      <td>1</td>\n",
       "      <td>2355</td>\n",
       "      <td>5</td>\n",
       "      <td>978824291</td>\n",
       "      <td>Bug's Life, A (1998)</td>\n",
       "      <td>Animation|Children's|Comedy</td>\n",
       "      <td>F</td>\n",
       "      <td>1</td>\n",
       "      <td>10</td>\n",
       "      <td>48067</td>\n",
       "    </tr>\n",
       "  </tbody>\n",
       "</table>\n",
       "</div>"
      ],
      "text/plain": [
       "   uId   mId  rating  timestamp                                  mTitle  \\\n",
       "0    1  1193       5  978300760  One Flew Over the Cuckoo's Nest (1975)   \n",
       "1    1   661       3  978302109        James and the Giant Peach (1996)   \n",
       "2    1   914       3  978301968                     My Fair Lady (1964)   \n",
       "3    1  3408       4  978300275                  Erin Brockovich (2000)   \n",
       "4    1  2355       5  978824291                    Bug's Life, A (1998)   \n",
       "\n",
       "                         mGenre uGender  uAge  uOccupation zipcode  \n",
       "0                         Drama       F     1           10   48067  \n",
       "1  Animation|Children's|Musical       F     1           10   48067  \n",
       "2               Musical|Romance       F     1           10   48067  \n",
       "3                         Drama       F     1           10   48067  \n",
       "4   Animation|Children's|Comedy       F     1           10   48067  "
      ]
     },
     "execution_count": 105,
     "metadata": {},
     "output_type": "execute_result"
    }
   ],
   "source": [
    "# Merge1 - Users\n",
    "# Merging result1 and user dataframe\n",
    "\n",
    "movies_integrated = pd.merge(result1, user, on='uId')\n",
    "print( movies_integrated.shape )\n",
    "movies_integrated.head()"
   ]
  },
  {
   "cell_type": "code",
   "execution_count": 106,
   "metadata": {},
   "outputs": [
    {
     "data": {
      "text/html": [
       "<div>\n",
       "<style scoped>\n",
       "    .dataframe tbody tr th:only-of-type {\n",
       "        vertical-align: middle;\n",
       "    }\n",
       "\n",
       "    .dataframe tbody tr th {\n",
       "        vertical-align: top;\n",
       "    }\n",
       "\n",
       "    .dataframe thead th {\n",
       "        text-align: right;\n",
       "    }\n",
       "</style>\n",
       "<table border=\"1\" class=\"dataframe\">\n",
       "  <thead>\n",
       "    <tr style=\"text-align: right;\">\n",
       "      <th></th>\n",
       "      <th>uId</th>\n",
       "      <th>mId</th>\n",
       "      <th>rating</th>\n",
       "      <th>mTitle</th>\n",
       "      <th>mGenre</th>\n",
       "      <th>uGender</th>\n",
       "      <th>uAge</th>\n",
       "      <th>uOccupation</th>\n",
       "      <th>zipcode</th>\n",
       "    </tr>\n",
       "    <tr>\n",
       "      <th>timestamp</th>\n",
       "      <th></th>\n",
       "      <th></th>\n",
       "      <th></th>\n",
       "      <th></th>\n",
       "      <th></th>\n",
       "      <th></th>\n",
       "      <th></th>\n",
       "      <th></th>\n",
       "      <th></th>\n",
       "    </tr>\n",
       "  </thead>\n",
       "  <tbody>\n",
       "    <tr>\n",
       "      <th>978300760</th>\n",
       "      <td>1</td>\n",
       "      <td>1193</td>\n",
       "      <td>5</td>\n",
       "      <td>One Flew Over the Cuckoo's Nest (1975)</td>\n",
       "      <td>Drama</td>\n",
       "      <td>F</td>\n",
       "      <td>1</td>\n",
       "      <td>10</td>\n",
       "      <td>48067</td>\n",
       "    </tr>\n",
       "    <tr>\n",
       "      <th>978302109</th>\n",
       "      <td>1</td>\n",
       "      <td>661</td>\n",
       "      <td>3</td>\n",
       "      <td>James and the Giant Peach (1996)</td>\n",
       "      <td>Animation|Children's|Musical</td>\n",
       "      <td>F</td>\n",
       "      <td>1</td>\n",
       "      <td>10</td>\n",
       "      <td>48067</td>\n",
       "    </tr>\n",
       "    <tr>\n",
       "      <th>978301968</th>\n",
       "      <td>1</td>\n",
       "      <td>914</td>\n",
       "      <td>3</td>\n",
       "      <td>My Fair Lady (1964)</td>\n",
       "      <td>Musical|Romance</td>\n",
       "      <td>F</td>\n",
       "      <td>1</td>\n",
       "      <td>10</td>\n",
       "      <td>48067</td>\n",
       "    </tr>\n",
       "    <tr>\n",
       "      <th>978300275</th>\n",
       "      <td>1</td>\n",
       "      <td>3408</td>\n",
       "      <td>4</td>\n",
       "      <td>Erin Brockovich (2000)</td>\n",
       "      <td>Drama</td>\n",
       "      <td>F</td>\n",
       "      <td>1</td>\n",
       "      <td>10</td>\n",
       "      <td>48067</td>\n",
       "    </tr>\n",
       "    <tr>\n",
       "      <th>978824291</th>\n",
       "      <td>1</td>\n",
       "      <td>2355</td>\n",
       "      <td>5</td>\n",
       "      <td>Bug's Life, A (1998)</td>\n",
       "      <td>Animation|Children's|Comedy</td>\n",
       "      <td>F</td>\n",
       "      <td>1</td>\n",
       "      <td>10</td>\n",
       "      <td>48067</td>\n",
       "    </tr>\n",
       "  </tbody>\n",
       "</table>\n",
       "</div>"
      ],
      "text/plain": [
       "           uId   mId  rating                                  mTitle  \\\n",
       "timestamp                                                              \n",
       "978300760    1  1193       5  One Flew Over the Cuckoo's Nest (1975)   \n",
       "978302109    1   661       3        James and the Giant Peach (1996)   \n",
       "978301968    1   914       3                     My Fair Lady (1964)   \n",
       "978300275    1  3408       4                  Erin Brockovich (2000)   \n",
       "978824291    1  2355       5                    Bug's Life, A (1998)   \n",
       "\n",
       "                                 mGenre uGender  uAge  uOccupation zipcode  \n",
       "timestamp                                                                   \n",
       "978300760                         Drama       F     1           10   48067  \n",
       "978302109  Animation|Children's|Musical       F     1           10   48067  \n",
       "978301968               Musical|Romance       F     1           10   48067  \n",
       "978300275                         Drama       F     1           10   48067  \n",
       "978824291   Animation|Children's|Comedy       F     1           10   48067  "
      ]
     },
     "execution_count": 106,
     "metadata": {},
     "output_type": "execute_result"
    }
   ],
   "source": [
    "movies_integrated.set_index('timestamp', inplace=True)\n",
    "movies_integrated.head()"
   ]
  },
  {
   "cell_type": "markdown",
   "metadata": {},
   "source": [
    "### 2. Use that merged file to find if there is any difference in the way ladies and gentlemen rate the movies.<br> If there is a difference in rating between genders, then show it in your data analysis and also through data visualization"
   ]
  },
  {
   "cell_type": "code",
   "execution_count": 107,
   "metadata": {},
   "outputs": [],
   "source": [
    "data = movies_integrated.copy()"
   ]
  },
  {
   "cell_type": "code",
   "execution_count": 108,
   "metadata": {},
   "outputs": [
    {
     "data": {
      "text/plain": [
       "(1000209, 9)"
      ]
     },
     "execution_count": 108,
     "metadata": {},
     "output_type": "execute_result"
    }
   ],
   "source": [
    "data.shape"
   ]
  },
  {
   "cell_type": "code",
   "execution_count": 109,
   "metadata": {},
   "outputs": [
    {
     "name": "stdout",
     "output_type": "stream",
     "text": [
      "<class 'numpy.int64'>\n"
     ]
    },
    {
     "data": {
      "text/plain": [
       "count    1.000209e+06\n",
       "mean     3.581564e+00\n",
       "std      1.117102e+00\n",
       "min      1.000000e+00\n",
       "25%      3.000000e+00\n",
       "50%      4.000000e+00\n",
       "75%      4.000000e+00\n",
       "max      5.000000e+00\n",
       "Name: rating, dtype: float64"
      ]
     },
     "execution_count": 109,
     "metadata": {},
     "output_type": "execute_result"
    }
   ],
   "source": [
    "print( type(data['rating'].iloc[0]) )\n",
    "data.rating.describe()"
   ]
  },
  {
   "cell_type": "code",
   "execution_count": 110,
   "metadata": {},
   "outputs": [
    {
     "data": {
      "text/plain": [
       "count    753769.000000\n",
       "mean          3.568879\n",
       "std           1.118724\n",
       "min           1.000000\n",
       "25%           3.000000\n",
       "50%           4.000000\n",
       "75%           4.000000\n",
       "max           5.000000\n",
       "Name: rating, dtype: float64"
      ]
     },
     "execution_count": 110,
     "metadata": {},
     "output_type": "execute_result"
    }
   ],
   "source": [
    "# Ratings by a Man\n",
    "data[ data['uGender'] == 'M' ]['rating'].describe()"
   ]
  },
  {
   "cell_type": "code",
   "execution_count": 111,
   "metadata": {},
   "outputs": [
    {
     "data": {
      "text/plain": [
       "count    246440.000000\n",
       "mean          3.620366\n",
       "std           1.111228\n",
       "min           1.000000\n",
       "25%           3.000000\n",
       "50%           4.000000\n",
       "75%           4.000000\n",
       "max           5.000000\n",
       "Name: rating, dtype: float64"
      ]
     },
     "execution_count": 111,
     "metadata": {},
     "output_type": "execute_result"
    }
   ],
   "source": [
    "# Ratings by a Woman\n",
    "data[ data['uGender'] == 'F' ]['rating'].describe()"
   ]
  },
  {
   "cell_type": "code",
   "execution_count": 113,
   "metadata": {},
   "outputs": [
    {
     "data": {
      "image/png": "[encoded data removed]",
      "text/plain": [
       "<Figure size 1080x504 with 1 Axes>"
      ]
     },
     "metadata": {},
     "output_type": "display_data"
    }
   ],
   "source": [
    "import seaborn as sns\n",
    "import matplotlib.pyplot as plt\n",
    "\n",
    "plt.figure( figsize=(15,7) )\n",
    "ax = sns.boxplot(x=\"uGender\", y=\"rating\", data=data, linewidth=1.5)\n",
    "plt.title('Box Plot of Rating by different gender')\n",
    "plt.xlabel('Gender M/F')\n",
    "plt.show()"
   ]
  },
  {
   "cell_type": "markdown",
   "metadata": {},
   "source": [
    "Since the movie rated by users could be rare too i,e; A movie could be rated by a very few fraction of people or even just one or two \n",
    "\n",
    "In that case we shouldn't consider the movie to compare ratings bw ladies and gentlemen\n",
    "\n",
    "Let's take 200 user ratings as a threshold here to eliminate movies with fewer ratings"
   ]
  },
  {
   "cell_type": "code",
   "execution_count": 159,
   "metadata": {},
   "outputs": [
    {
     "name": "stdout",
     "output_type": "stream",
     "text": [
      "3706\n"
     ]
    },
    {
     "data": {
      "text/plain": [
       "[('$1,000,000 Duck (1971)',\n",
       "               uId   mId  rating                  mTitle             mGenre  \\\n",
       "  timestamp                                                                   \n",
       "  976867230    216  2031       2  $1,000,000 Duck (1971)  Children's|Comedy   \n",
       "  999376619    869  2031       1  $1,000,000 Duck (1971)  Children's|Comedy   \n",
       "  974919045   1111  2031       5  $1,000,000 Duck (1971)  Children's|Comedy   \n",
       "  974996980   1556  2031       3  $1,000,000 Duck (1971)  Children's|Comedy   \n",
       "  974838218   1680  2031       3  $1,000,000 Duck (1971)  Children's|Comedy   \n",
       "  1012858238  1748  2031       1  $1,000,000 Duck (1971)  Children's|Comedy   \n",
       "  974855061   1941  2031       4  $1,000,000 Duck (1971)  Children's|Comedy   \n",
       "  1019110546  1980  2031       3  $1,000,000 Duck (1971)  Children's|Comedy   \n",
       "  974679154   1998  2031       3  $1,000,000 Duck (1971)  Children's|Comedy   \n",
       "  974746245   2030  2031       2  $1,000,000 Duck (1971)  Children's|Comedy   \n",
       "  1038194385  2462  2031       2  $1,000,000 Duck (1971)  Children's|Comedy   \n",
       "  968200302   3271  2031       3  $1,000,000 Duck (1971)  Children's|Comedy   \n",
       "  968098168   3292  2031       2  $1,000,000 Duck (1971)  Children's|Comedy   \n",
       "  969938517   3300  2031       4  $1,000,000 Duck (1971)  Children's|Comedy   \n",
       "  967674491   3391  2031       2  $1,000,000 Duck (1971)  Children's|Comedy   \n",
       "  965500873   4048  2031       3  $1,000,000 Duck (1971)  Children's|Comedy   \n",
       "  1017931511  4186  2031       3  $1,000,000 Duck (1971)  Children's|Comedy   \n",
       "  965187766   4360  2031       3  $1,000,000 Duck (1971)  Children's|Comedy   \n",
       "  965110686   4425  2031       3  $1,000,000 Duck (1971)  Children's|Comedy   \n",
       "  965019500   4484  2031       3  $1,000,000 Duck (1971)  Children's|Comedy   \n",
       "  963354665   4728  2031       4  $1,000,000 Duck (1971)  Children's|Comedy   \n",
       "  963068261   5185  2031       3  $1,000,000 Duck (1971)  Children's|Comedy   \n",
       "  984200692   5643  2031       2  $1,000,000 Duck (1971)  Children's|Comedy   \n",
       "  964186706   5978  2031       2  $1,000,000 Duck (1971)  Children's|Comedy   \n",
       "  984794096   1141  2031       4  $1,000,000 Duck (1971)  Children's|Comedy   \n",
       "  977113165   1635  2031       2  $1,000,000 Duck (1971)  Children's|Comedy   \n",
       "  974591008   2255  2031       3  $1,000,000 Duck (1971)  Children's|Comedy   \n",
       "  993858333   3665  2031       4  $1,000,000 Duck (1971)  Children's|Comedy   \n",
       "  969999993   4784  2031       4  $1,000,000 Duck (1971)  Children's|Comedy   \n",
       "  974979904   1645  2031       5  $1,000,000 Duck (1971)  Children's|Comedy   \n",
       "  975093319   1034  2031       3  $1,000,000 Duck (1971)  Children's|Comedy   \n",
       "  975782711    714  2031       4  $1,000,000 Duck (1971)  Children's|Comedy   \n",
       "  974716210   1709  2031       5  $1,000,000 Duck (1971)  Children's|Comedy   \n",
       "  974624939   2156  2031       3  $1,000,000 Duck (1971)  Children's|Comedy   \n",
       "  958475031   5728  2031       3  $1,000,000 Duck (1971)  Children's|Comedy   \n",
       "  976215651    494  2031       5  $1,000,000 Duck (1971)  Children's|Comedy   \n",
       "  961807264   5179  2031       1  $1,000,000 Duck (1971)  Children's|Comedy   \n",
       "  \n",
       "             uGender  uAge  uOccupation zipcode  \n",
       "  timestamp                                      \n",
       "  976867230        M    45           13   52761  \n",
       "  999376619        M    18           20   92026  \n",
       "  974919045        F    50           16   44319  \n",
       "  974996980        M    18            4   48073  \n",
       "  974838218        M    25           20   95380  \n",
       "  1012858238       M    50            1   04240  \n",
       "  974855061        M    35           17   94550  \n",
       "  1019110546       M    35            7   06460  \n",
       "  974679154        F    50            9   24018  \n",
       "  974746245        M    25            4   77345  \n",
       "  1038194385       M    35            1   44303  \n",
       "  968200302        F    35            0   92704  \n",
       "  968098168        F    50            6   79410  \n",
       "  969938517        M    35            5   19119  \n",
       "  967674491        M    18            4   48135  \n",
       "  965500873        F    35            1   89431  \n",
       "  1017931511       M    25            7   33308  \n",
       "  965187766        F    25            9   98001  \n",
       "  965110686        M    35            7   98607  \n",
       "  965019500        F    25           17   94613  \n",
       "  963354665        M    25           19   31401  \n",
       "  963068261        F    35            4   44485  \n",
       "  984200692        F    35            1   84108  \n",
       "  964186706        M    35            1   49307  \n",
       "  984794096        F    25            3   84770  \n",
       "  977113165        M    25            0   97212  \n",
       "  974591008        F    35            6   44303  \n",
       "  993858333        M    25            0   95903  \n",
       "  969999993        F    35            6   48105  \n",
       "  974979904        F    18            9   62225  \n",
       "  975093319        F    35            1   82601  \n",
       "  975782711        M    18            4   76013  \n",
       "  974716210        M    25            0   73147  \n",
       "  974624939        M    18           19   55912  \n",
       "  958475031        F    35           20   09824  \n",
       "  976215651        F    35            0   17870  \n",
       "  961807264        M    25           12   94110  ),\n",
       " (\"'Night Mother (1986)\",\n",
       "              uId   mId  rating                mTitle mGenre uGender  uAge  \\\n",
       "  timestamp                                                                  \n",
       "  976574062   285  3112       3  'Night Mother (1986)  Drama       F    35   \n",
       "  979946060   329  3112       3  'Night Mother (1986)  Drama       M    35   \n",
       "  976416845   451  3112       5  'Night Mother (1986)  Drama       M    56   \n",
       "  975354040   850  3112       1  'Night Mother (1986)  Drama       M    35   \n",
       "  981862101  1015  3112       3  'Night Mother (1986)  Drama       M    35   \n",
       "  ...         ...   ...     ...                   ...    ...     ...   ...   \n",
       "  976235995   447  3112       5  'Night Mother (1986)  Drama       F    45   \n",
       "  968707767  3184  3112       4  'Night Mother (1986)  Drama       F    25   \n",
       "  970169396  3053  3112       3  'Night Mother (1986)  Drama       F    25   \n",
       "  965571313  4001  3112       5  'Night Mother (1986)  Drama       F    25   \n",
       "  966360449  3680  3112       4  'Night Mother (1986)  Drama       F    25   \n",
       "  \n",
       "             uOccupation zipcode  \n",
       "  timestamp                       \n",
       "  976574062            0   94109  \n",
       "  979946060            7   02115  \n",
       "  976416845           13   54720  \n",
       "  975354040            0   60640  \n",
       "  981862101            3   11220  \n",
       "  ...                ...     ...  \n",
       "  976235995           11   55105  \n",
       "  968707767           18   21214  \n",
       "  970169396            3   55102  \n",
       "  965571313            1   01860  \n",
       "  966360449            1   94939  \n",
       "  \n",
       "  [70 rows x 9 columns])]"
      ]
     },
     "execution_count": 159,
     "metadata": {},
     "output_type": "execute_result"
    }
   ],
   "source": [
    "totalRating = data.groupby('mTitle')\n",
    "print( len(list(totalRating)) )\n",
    "list(totalRating)[:2]"
   ]
  },
  {
   "cell_type": "code",
   "execution_count": 160,
   "metadata": {},
   "outputs": [
    {
     "data": {
      "text/plain": [
       "mTitle\n",
       "$1,000,000 Duck (1971)                         37\n",
       "'Night Mother (1986)                           70\n",
       "'Til There Was You (1997)                      52\n",
       "'burbs, The (1989)                            303\n",
       "...And Justice for All (1979)                 199\n",
       "                                             ... \n",
       "Zed & Two Noughts, A (1985)                    29\n",
       "Zero Effect (1998)                            301\n",
       "Zero Kelvin (Kjærlighetens kjøtere) (1995)      2\n",
       "Zeus and Roxanne (1997)                        23\n",
       "eXistenZ (1999)                               410\n",
       "Length: 3706, dtype: int64"
      ]
     },
     "execution_count": 160,
     "metadata": {},
     "output_type": "execute_result"
    }
   ],
   "source": [
    "totalRating = data.groupby('mTitle').size()\n",
    "totalRating"
   ]
  },
  {
   "cell_type": "code",
   "execution_count": 161,
   "metadata": {},
   "outputs": [
    {
     "data": {
      "text/plain": [
       "Index([''burbs, The (1989)', '10 Things I Hate About You (1999)',\n",
       "       '101 Dalmatians (1961)', '101 Dalmatians (1996)', '12 Angry Men (1957)',\n",
       "       '13th Warrior, The (1999)', '2 Days in the Valley (1996)',\n",
       "       '20,000 Leagues Under the Sea (1954)', '2001: A Space Odyssey (1968)',\n",
       "       '2010 (1984)',\n",
       "       ...\n",
       "       'Year of Living Dangerously (1982)', 'Yellow Submarine (1968)',\n",
       "       'Yojimbo (1961)', 'You've Got Mail (1998)', 'Young Frankenstein (1974)',\n",
       "       'Young Guns (1988)', 'Young Guns II (1990)',\n",
       "       'Young Sherlock Holmes (1985)', 'Zero Effect (1998)',\n",
       "       'eXistenZ (1999)'],\n",
       "      dtype='object', name='mTitle', length=1426)"
      ]
     },
     "execution_count": 161,
     "metadata": {},
     "output_type": "execute_result"
    }
   ],
   "source": [
    "trueRatings = totalRating.index[totalRating >= 200]\n",
    "trueRatings"
   ]
  },
  {
   "cell_type": "code",
   "execution_count": 163,
   "metadata": {},
   "outputs": [
    {
     "name": "stdout",
     "output_type": "stream",
     "text": [
      " Total Movies : 3706\n",
      " Movies we took with user ratings > 200 : 1426\n",
      " Rejected movies with < 200 user ratings : 2280\n"
     ]
    }
   ],
   "source": [
    "print(' Total Movies :',data['mTitle'].unique().shape[0] )\n",
    "print(' Movies we took with user ratings > 200 :', len(trueRatings))\n",
    "print(' Rejected movies with < 200 user ratings :', data['mTitle'].unique().shape[0] - len(trueRatings) )"
   ]
  },
  {
   "cell_type": "code",
   "execution_count": 164,
   "metadata": {},
   "outputs": [
    {
     "data": {
      "text/html": [
       "<div>\n",
       "<style scoped>\n",
       "    .dataframe tbody tr th:only-of-type {\n",
       "        vertical-align: middle;\n",
       "    }\n",
       "\n",
       "    .dataframe tbody tr th {\n",
       "        vertical-align: top;\n",
       "    }\n",
       "\n",
       "    .dataframe thead th {\n",
       "        text-align: right;\n",
       "    }\n",
       "</style>\n",
       "<table border=\"1\" class=\"dataframe\">\n",
       "  <thead>\n",
       "    <tr style=\"text-align: right;\">\n",
       "      <th>uGender</th>\n",
       "      <th>F</th>\n",
       "      <th>M</th>\n",
       "    </tr>\n",
       "    <tr>\n",
       "      <th>mTitle</th>\n",
       "      <th></th>\n",
       "      <th></th>\n",
       "    </tr>\n",
       "  </thead>\n",
       "  <tbody>\n",
       "    <tr>\n",
       "      <th>$1,000,000 Duck (1971)</th>\n",
       "      <td>3.375000</td>\n",
       "      <td>2.761905</td>\n",
       "    </tr>\n",
       "    <tr>\n",
       "      <th>'Night Mother (1986)</th>\n",
       "      <td>3.388889</td>\n",
       "      <td>3.352941</td>\n",
       "    </tr>\n",
       "    <tr>\n",
       "      <th>'Til There Was You (1997)</th>\n",
       "      <td>2.675676</td>\n",
       "      <td>2.733333</td>\n",
       "    </tr>\n",
       "    <tr>\n",
       "      <th>'burbs, The (1989)</th>\n",
       "      <td>2.793478</td>\n",
       "      <td>2.962085</td>\n",
       "    </tr>\n",
       "    <tr>\n",
       "      <th>...And Justice for All (1979)</th>\n",
       "      <td>3.828571</td>\n",
       "      <td>3.689024</td>\n",
       "    </tr>\n",
       "  </tbody>\n",
       "</table>\n",
       "</div>"
      ],
      "text/plain": [
       "uGender                               F         M\n",
       "mTitle                                           \n",
       "$1,000,000 Duck (1971)         3.375000  2.761905\n",
       "'Night Mother (1986)           3.388889  3.352941\n",
       "'Til There Was You (1997)      2.675676  2.733333\n",
       "'burbs, The (1989)             2.793478  2.962085\n",
       "...And Justice for All (1979)  3.828571  3.689024"
      ]
     },
     "execution_count": 164,
     "metadata": {},
     "output_type": "execute_result"
    }
   ],
   "source": [
    "# Taking average of all the movie user ratings and splitting them based on Gender\n",
    "\n",
    "avgRating = data.pivot_table('rating', index='mTitle', columns='uGender')\n",
    "avgRating[:5]"
   ]
  },
  {
   "cell_type": "code",
   "execution_count": 166,
   "metadata": {},
   "outputs": [
    {
     "name": "stdout",
     "output_type": "stream",
     "text": [
      "(1426, 2)\n"
     ]
    },
    {
     "data": {
      "text/html": [
       "<div>\n",
       "<style scoped>\n",
       "    .dataframe tbody tr th:only-of-type {\n",
       "        vertical-align: middle;\n",
       "    }\n",
       "\n",
       "    .dataframe tbody tr th {\n",
       "        vertical-align: top;\n",
       "    }\n",
       "\n",
       "    .dataframe thead th {\n",
       "        text-align: right;\n",
       "    }\n",
       "</style>\n",
       "<table border=\"1\" class=\"dataframe\">\n",
       "  <thead>\n",
       "    <tr style=\"text-align: right;\">\n",
       "      <th>uGender</th>\n",
       "      <th>F</th>\n",
       "      <th>M</th>\n",
       "    </tr>\n",
       "    <tr>\n",
       "      <th>mTitle</th>\n",
       "      <th></th>\n",
       "      <th></th>\n",
       "    </tr>\n",
       "  </thead>\n",
       "  <tbody>\n",
       "    <tr>\n",
       "      <th>'burbs, The (1989)</th>\n",
       "      <td>2.793478</td>\n",
       "      <td>2.962085</td>\n",
       "    </tr>\n",
       "    <tr>\n",
       "      <th>10 Things I Hate About You (1999)</th>\n",
       "      <td>3.646552</td>\n",
       "      <td>3.311966</td>\n",
       "    </tr>\n",
       "    <tr>\n",
       "      <th>101 Dalmatians (1961)</th>\n",
       "      <td>3.791444</td>\n",
       "      <td>3.500000</td>\n",
       "    </tr>\n",
       "    <tr>\n",
       "      <th>101 Dalmatians (1996)</th>\n",
       "      <td>3.240000</td>\n",
       "      <td>2.911215</td>\n",
       "    </tr>\n",
       "    <tr>\n",
       "      <th>12 Angry Men (1957)</th>\n",
       "      <td>4.184397</td>\n",
       "      <td>4.328421</td>\n",
       "    </tr>\n",
       "  </tbody>\n",
       "</table>\n",
       "</div>"
      ],
      "text/plain": [
       "uGender                                   F         M\n",
       "mTitle                                               \n",
       "'burbs, The (1989)                 2.793478  2.962085\n",
       "10 Things I Hate About You (1999)  3.646552  3.311966\n",
       "101 Dalmatians (1961)              3.791444  3.500000\n",
       "101 Dalmatians (1996)              3.240000  2.911215\n",
       "12 Angry Men (1957)                4.184397  4.328421"
      ]
     },
     "execution_count": 166,
     "metadata": {},
     "output_type": "execute_result"
    }
   ],
   "source": [
    "# Now only selecting > 200 user rated movies\n",
    "\n",
    "avgRating200 = avgRating.loc[trueRatings]\n",
    "print(avgRating200.shape)\n",
    "avgRating200.head()"
   ]
  },
  {
   "cell_type": "code",
   "execution_count": 188,
   "metadata": {},
   "outputs": [
    {
     "data": {
      "image/png": "[encoded data removed]",
      "text/plain": [
       "<Figure size 1296x360 with 2 Axes>"
      ]
     },
     "metadata": {},
     "output_type": "display_data"
    }
   ],
   "source": [
    "figure,(ax1,ax2) = plt.subplots(1,2,figsize = (18,5))\n",
    "ax1 = sns.boxplot( y=\"M\", data=avgRating200, linewidth=1.5, ax=ax1)\n",
    "ax2 = sns.boxplot( y=\"F\", data=avgRating200, linewidth=1.5, ax=ax2, color='pink')\n",
    "ax1.set_title('Avg Rating by Gentlemen', size=14)\n",
    "ax2.set_title('Avg Rating by Ladies', size=14)\n",
    "\n",
    "ax1.set_ylabel('Rating',size=12)\n",
    "ax2.set_ylabel('Rating',size=12)\n",
    "\n",
    "plt.show()"
   ]
  },
  {
   "cell_type": "code",
   "execution_count": 167,
   "metadata": {},
   "outputs": [
    {
     "name": "stdout",
     "output_type": "stream",
     "text": [
      " Average ratings given by M overall : 3.504311777742739\n",
      " Average ratings given by F overall : 3.515640251529378\n"
     ]
    }
   ],
   "source": [
    "# Now we have the avg user rating for differnt movies rated by > 200 users, splitted gender wise\n",
    "\n",
    "print(' Average ratings given by M overall :', avgRating200['M'].mean() )\n",
    "print(' Average ratings given by F overall :', avgRating200['F'].mean() )"
   ]
  },
  {
   "cell_type": "code",
   "execution_count": 168,
   "metadata": {},
   "outputs": [
    {
     "data": {
      "text/html": [
       "<div>\n",
       "<style scoped>\n",
       "    .dataframe tbody tr th:only-of-type {\n",
       "        vertical-align: middle;\n",
       "    }\n",
       "\n",
       "    .dataframe tbody tr th {\n",
       "        vertical-align: top;\n",
       "    }\n",
       "\n",
       "    .dataframe thead th {\n",
       "        text-align: right;\n",
       "    }\n",
       "</style>\n",
       "<table border=\"1\" class=\"dataframe\">\n",
       "  <thead>\n",
       "    <tr style=\"text-align: right;\">\n",
       "      <th>uGender</th>\n",
       "      <th>F</th>\n",
       "      <th>M</th>\n",
       "      <th>diff</th>\n",
       "    </tr>\n",
       "    <tr>\n",
       "      <th>mTitle</th>\n",
       "      <th></th>\n",
       "      <th></th>\n",
       "      <th></th>\n",
       "    </tr>\n",
       "  </thead>\n",
       "  <tbody>\n",
       "    <tr>\n",
       "      <th>Dirty Dancing (1987)</th>\n",
       "      <td>3.790378</td>\n",
       "      <td>2.959596</td>\n",
       "      <td>-0.830782</td>\n",
       "    </tr>\n",
       "    <tr>\n",
       "      <th>To Wong Foo, Thanks for Everything! Julie Newmar (1995)</th>\n",
       "      <td>3.486842</td>\n",
       "      <td>2.795276</td>\n",
       "      <td>-0.691567</td>\n",
       "    </tr>\n",
       "    <tr>\n",
       "      <th>Jumpin' Jack Flash (1986)</th>\n",
       "      <td>3.254717</td>\n",
       "      <td>2.578358</td>\n",
       "      <td>-0.676359</td>\n",
       "    </tr>\n",
       "    <tr>\n",
       "      <th>Grease (1978)</th>\n",
       "      <td>3.975265</td>\n",
       "      <td>3.367041</td>\n",
       "      <td>-0.608224</td>\n",
       "    </tr>\n",
       "    <tr>\n",
       "      <th>Relic, The (1997)</th>\n",
       "      <td>3.309524</td>\n",
       "      <td>2.723077</td>\n",
       "      <td>-0.586447</td>\n",
       "    </tr>\n",
       "    <tr>\n",
       "      <th>...</th>\n",
       "      <td>...</td>\n",
       "      <td>...</td>\n",
       "      <td>...</td>\n",
       "    </tr>\n",
       "    <tr>\n",
       "      <th>Longest Day, The (1962)</th>\n",
       "      <td>3.411765</td>\n",
       "      <td>4.031447</td>\n",
       "      <td>0.619682</td>\n",
       "    </tr>\n",
       "    <tr>\n",
       "      <th>Dumb &amp; Dumber (1994)</th>\n",
       "      <td>2.697987</td>\n",
       "      <td>3.336595</td>\n",
       "      <td>0.638608</td>\n",
       "    </tr>\n",
       "    <tr>\n",
       "      <th>Up in Smoke (1978)</th>\n",
       "      <td>2.944444</td>\n",
       "      <td>3.585227</td>\n",
       "      <td>0.640783</td>\n",
       "    </tr>\n",
       "    <tr>\n",
       "      <th>Kentucky Fried Movie, The (1977)</th>\n",
       "      <td>2.878788</td>\n",
       "      <td>3.555147</td>\n",
       "      <td>0.676359</td>\n",
       "    </tr>\n",
       "    <tr>\n",
       "      <th>Good, The Bad and The Ugly, The (1966)</th>\n",
       "      <td>3.494949</td>\n",
       "      <td>4.221300</td>\n",
       "      <td>0.726351</td>\n",
       "    </tr>\n",
       "  </tbody>\n",
       "</table>\n",
       "<p>1426 rows × 3 columns</p>\n",
       "</div>"
      ],
      "text/plain": [
       "uGender                                                    F         M  \\\n",
       "mTitle                                                                   \n",
       "Dirty Dancing (1987)                                3.790378  2.959596   \n",
       "To Wong Foo, Thanks for Everything! Julie Newma...  3.486842  2.795276   \n",
       "Jumpin' Jack Flash (1986)                           3.254717  2.578358   \n",
       "Grease (1978)                                       3.975265  3.367041   \n",
       "Relic, The (1997)                                   3.309524  2.723077   \n",
       "...                                                      ...       ...   \n",
       "Longest Day, The (1962)                             3.411765  4.031447   \n",
       "Dumb & Dumber (1994)                                2.697987  3.336595   \n",
       "Up in Smoke (1978)                                  2.944444  3.585227   \n",
       "Kentucky Fried Movie, The (1977)                    2.878788  3.555147   \n",
       "Good, The Bad and The Ugly, The (1966)              3.494949  4.221300   \n",
       "\n",
       "uGender                                                 diff  \n",
       "mTitle                                                        \n",
       "Dirty Dancing (1987)                               -0.830782  \n",
       "To Wong Foo, Thanks for Everything! Julie Newma... -0.691567  \n",
       "Jumpin' Jack Flash (1986)                          -0.676359  \n",
       "Grease (1978)                                      -0.608224  \n",
       "Relic, The (1997)                                  -0.586447  \n",
       "...                                                      ...  \n",
       "Longest Day, The (1962)                             0.619682  \n",
       "Dumb & Dumber (1994)                                0.638608  \n",
       "Up in Smoke (1978)                                  0.640783  \n",
       "Kentucky Fried Movie, The (1977)                    0.676359  \n",
       "Good, The Bad and The Ugly, The (1966)              0.726351  \n",
       "\n",
       "[1426 rows x 3 columns]"
      ]
     },
     "execution_count": 168,
     "metadata": {},
     "output_type": "execute_result"
    }
   ],
   "source": [
    "avgRating200['diff'] = avgRating200['M'] - avgRating200['F']\n",
    "avgRating200.sort_values(by='diff', inplace=True)\n",
    "avgRating200"
   ]
  },
  {
   "cell_type": "code",
   "execution_count": 169,
   "metadata": {},
   "outputs": [
    {
     "data": {
      "text/plain": [
       "count    1426.000000\n",
       "mean       -0.011328\n",
       "std         0.212422\n",
       "min        -0.830782\n",
       "25%        -0.145018\n",
       "50%        -0.013975\n",
       "75%         0.114081\n",
       "max         0.726351\n",
       "Name: diff, dtype: float64"
      ]
     },
     "execution_count": 169,
     "metadata": {},
     "output_type": "execute_result"
    }
   ],
   "source": [
    "avgRating200['diff'].describe()"
   ]
  },
  {
   "cell_type": "code",
   "execution_count": 170,
   "metadata": {},
   "outputs": [
    {
     "name": "stdout",
     "output_type": "stream",
     "text": [
      " No. of movies in which M rated more than F : 680\n",
      " No. of movies in which F rated more than M : 746\n"
     ]
    }
   ],
   "source": [
    "print(' No. of movies in which M rated more than F :',avgRating200[avgRating200['diff']>0].shape[0] )\n",
    "print(' No. of movies in which F rated more than M :',avgRating200[avgRating200['diff']<0].shape[0] )"
   ]
  },
  {
   "cell_type": "markdown",
   "metadata": {},
   "source": [
    "From the above analysis we see that although there is a difference but it's not that significant\n",
    "\n",
    "Therefore we can conclude there is no big diff. in Ladies and Gentleman rating a movie"
   ]
  },
  {
   "cell_type": "markdown",
   "metadata": {},
   "source": [
    "## 4. Data analysis and classification done on the USA university admission data "
   ]
  },
  {
   "cell_type": "code",
   "execution_count": 189,
   "metadata": {},
   "outputs": [],
   "source": [
    "import os\n",
    "\n",
    "os.chdir('C:\\\\Users\\\\Harsh\\\\Downloads')"
   ]
  },
  {
   "cell_type": "code",
   "execution_count": 192,
   "metadata": {},
   "outputs": [
    {
     "data": {
      "text/html": [
       "<div>\n",
       "<style scoped>\n",
       "    .dataframe tbody tr th:only-of-type {\n",
       "        vertical-align: middle;\n",
       "    }\n",
       "\n",
       "    .dataframe tbody tr th {\n",
       "        vertical-align: top;\n",
       "    }\n",
       "\n",
       "    .dataframe thead th {\n",
       "        text-align: right;\n",
       "    }\n",
       "</style>\n",
       "<table border=\"1\" class=\"dataframe\">\n",
       "  <thead>\n",
       "    <tr style=\"text-align: right;\">\n",
       "      <th></th>\n",
       "      <th>admit</th>\n",
       "      <th>gre</th>\n",
       "      <th>gpa</th>\n",
       "      <th>prestige</th>\n",
       "    </tr>\n",
       "  </thead>\n",
       "  <tbody>\n",
       "    <tr>\n",
       "      <th>0</th>\n",
       "      <td>1</td>\n",
       "      <td>660</td>\n",
       "      <td>3.67</td>\n",
       "      <td>good</td>\n",
       "    </tr>\n",
       "    <tr>\n",
       "      <th>1</th>\n",
       "      <td>1</td>\n",
       "      <td>800</td>\n",
       "      <td>4.00</td>\n",
       "      <td>best</td>\n",
       "    </tr>\n",
       "    <tr>\n",
       "      <th>2</th>\n",
       "      <td>1</td>\n",
       "      <td>640</td>\n",
       "      <td>3.19</td>\n",
       "      <td>ok</td>\n",
       "    </tr>\n",
       "    <tr>\n",
       "      <th>3</th>\n",
       "      <td>0</td>\n",
       "      <td>520</td>\n",
       "      <td>2.93</td>\n",
       "      <td>ok</td>\n",
       "    </tr>\n",
       "    <tr>\n",
       "      <th>4</th>\n",
       "      <td>1</td>\n",
       "      <td>760</td>\n",
       "      <td>3.00</td>\n",
       "      <td>veryGood</td>\n",
       "    </tr>\n",
       "  </tbody>\n",
       "</table>\n",
       "</div>"
      ],
      "text/plain": [
       "   admit  gre   gpa  prestige\n",
       "0      1  660  3.67      good\n",
       "1      1  800  4.00      best\n",
       "2      1  640  3.19        ok\n",
       "3      0  520  2.93        ok\n",
       "4      1  760  3.00  veryGood"
      ]
     },
     "execution_count": 192,
     "metadata": {},
     "output_type": "execute_result"
    }
   ],
   "source": [
    "import pandas as pd\n",
    "filename = \"UniversityAdmissions.xlsx\"\n",
    "\n",
    "data = pd.read_excel(filename , names=['admit', 'gre', 'gpa', 'prestige'])\n",
    "data.head()"
   ]
  },
  {
   "cell_type": "code",
   "execution_count": 3,
   "metadata": {},
   "outputs": [
    {
     "data": {
      "text/plain": [
       "0    207\n",
       "1     92\n",
       "Name: admit, dtype: int64"
      ]
     },
     "execution_count": 3,
     "metadata": {},
     "output_type": "execute_result"
    }
   ],
   "source": [
    "data.admit.value_counts()"
   ]
  },
  {
   "cell_type": "code",
   "execution_count": 54,
   "metadata": {},
   "outputs": [
    {
     "data": {
      "text/plain": [
       "veryGood    107\n",
       "good         91\n",
       "ok           56\n",
       "best         45\n",
       "Name: prestige, dtype: int64"
      ]
     },
     "execution_count": 54,
     "metadata": {},
     "output_type": "execute_result"
    }
   ],
   "source": [
    "data.prestige.value_counts()"
   ]
  },
  {
   "cell_type": "code",
   "execution_count": 60,
   "metadata": {},
   "outputs": [
    {
     "name": "stdout",
     "output_type": "stream",
     "text": [
      "veryGood    39\n",
      "best        25\n",
      "good        19\n",
      "ok           9\n",
      "Name: prestige, dtype: int64\n",
      "--------------------------------------------------\n",
      "good        72\n",
      "veryGood    68\n",
      "ok          47\n",
      "best        20\n",
      "Name: prestige, dtype: int64\n"
     ]
    }
   ],
   "source": [
    "print( data[ data.admit == 1]['prestige'].value_counts() )\n",
    "print('-'*50)\n",
    "print( data[ data.admit == 0]['prestige'].value_counts() )"
   ]
  },
  {
   "cell_type": "code",
   "execution_count": 16,
   "metadata": {},
   "outputs": [
    {
     "name": "stdout",
     "output_type": "stream",
     "text": [
      "Distribution of Unselected Applicants i.e; admit=0\n",
      "count    207.000000\n",
      "mean       3.335266\n",
      "std        0.377894\n",
      "min        2.260000\n",
      "25%        3.075000\n",
      "50%        3.330000\n",
      "75%        3.590000\n",
      "max        4.000000\n",
      "Name: gpa, dtype: float64\n",
      "--------------------------------------------------\n",
      "Distribution of Selected Applicants i.e; admit=1\n",
      "count    92.000000\n",
      "mean      3.498478\n",
      "std       0.345387\n",
      "min       2.670000\n",
      "25%       3.227500\n",
      "50%       3.535000\n",
      "75%       3.740000\n",
      "max       4.000000\n",
      "Name: gpa, dtype: float64\n"
     ]
    }
   ],
   "source": [
    "print('Distribution of Unselected Applicants i.e; admit=0')\n",
    "print( data[ data.admit == 0 ]['gpa'].describe() )\n",
    "print('-'*50)\n",
    "print('Distribution of Selected Applicants i.e; admit=1')\n",
    "print( data[ data.admit == 1 ]['gpa'].describe() )"
   ]
  },
  {
   "cell_type": "code",
   "execution_count": 17,
   "metadata": {},
   "outputs": [
    {
     "name": "stdout",
     "output_type": "stream",
     "text": [
      "Distribution of Unselected Applicants i.e; admit=0\n",
      "count    207.000000\n",
      "mean     574.396135\n",
      "std      120.062676\n",
      "min      300.000000\n",
      "25%      500.000000\n",
      "50%      580.000000\n",
      "75%      660.000000\n",
      "max      800.000000\n",
      "Name: gre, dtype: float64\n",
      "--------------------------------------------------\n",
      "Distribution of Selected Applicants i.e; admit=1\n",
      "count     92.000000\n",
      "mean     630.217391\n",
      "std      101.136164\n",
      "min      400.000000\n",
      "25%      555.000000\n",
      "50%      620.000000\n",
      "75%      700.000000\n",
      "max      800.000000\n",
      "Name: gre, dtype: float64\n"
     ]
    }
   ],
   "source": [
    "print('Distribution of Unselected Applicants i.e; admit=0')\n",
    "print( data[ data.admit == 0 ]['gre'].describe() )\n",
    "print('-'*50)\n",
    "print('Distribution of Selected Applicants i.e; admit=1')\n",
    "print( data[ data.admit == 1 ]['gre'].describe() )"
   ]
  },
  {
   "cell_type": "code",
   "execution_count": 50,
   "metadata": {},
   "outputs": [
    {
     "name": "stdout",
     "output_type": "stream",
     "text": [
      "\tDistribution of GRE and GPA scores\n"
     ]
    },
    {
     "data": {
      "image/png": "[encoded data removed]",
      "text/plain": [
       "<Figure size 1296x360 with 2 Axes>"
      ]
     },
     "metadata": {},
     "output_type": "display_data"
    }
   ],
   "source": [
    "figure,(ax1,ax2) = plt.subplots(1,2,figsize = (18,5))\n",
    "ax1 = sns.distplot(data['gre'], ax=ax1);\n",
    "ax2 = sns.distplot(data['gpa'], ax=ax2);\n",
    "ax1.set_title('GRE scores', size=14)\n",
    "ax2.set_title('GPA scores', size=14)\n",
    "ax1.set_xlabel('GRE',size=12)\n",
    "ax2.set_xlabel('GPA',size=12)\n",
    "\n",
    "print('\\tDistribution of GRE and GPA scores')\n",
    "plt.show()"
   ]
  },
  {
   "cell_type": "code",
   "execution_count": 61,
   "metadata": {},
   "outputs": [
    {
     "data": {
      "text/html": [
       "<div>\n",
       "<style scoped>\n",
       "    .dataframe tbody tr th:only-of-type {\n",
       "        vertical-align: middle;\n",
       "    }\n",
       "\n",
       "    .dataframe tbody tr th {\n",
       "        vertical-align: top;\n",
       "    }\n",
       "\n",
       "    .dataframe thead th {\n",
       "        text-align: right;\n",
       "    }\n",
       "</style>\n",
       "<table border=\"1\" class=\"dataframe\">\n",
       "  <thead>\n",
       "    <tr style=\"text-align: right;\">\n",
       "      <th>prestige</th>\n",
       "      <th>best</th>\n",
       "      <th>good</th>\n",
       "      <th>ok</th>\n",
       "      <th>veryGood</th>\n",
       "    </tr>\n",
       "    <tr>\n",
       "      <th>admit</th>\n",
       "      <th></th>\n",
       "      <th></th>\n",
       "      <th></th>\n",
       "      <th></th>\n",
       "    </tr>\n",
       "  </thead>\n",
       "  <tbody>\n",
       "    <tr>\n",
       "      <th>0</th>\n",
       "      <td>3.3005</td>\n",
       "      <td>3.417639</td>\n",
       "      <td>3.285319</td>\n",
       "      <td>3.292794</td>\n",
       "    </tr>\n",
       "    <tr>\n",
       "      <th>1</th>\n",
       "      <td>3.6252</td>\n",
       "      <td>3.561579</td>\n",
       "      <td>3.367778</td>\n",
       "      <td>3.416667</td>\n",
       "    </tr>\n",
       "  </tbody>\n",
       "</table>\n",
       "</div>"
      ],
      "text/plain": [
       "prestige    best      good        ok  veryGood\n",
       "admit                                         \n",
       "0         3.3005  3.417639  3.285319  3.292794\n",
       "1         3.6252  3.561579  3.367778  3.416667"
      ]
     },
     "execution_count": 61,
     "metadata": {},
     "output_type": "execute_result"
    }
   ],
   "source": [
    "# Mean GPA scores of different admits along with their prestige\n",
    "\n",
    "data.pivot_table('gpa', index='admit', columns='prestige')"
   ]
  },
  {
   "cell_type": "code",
   "execution_count": 62,
   "metadata": {},
   "outputs": [
    {
     "data": {
      "text/html": [
       "<div>\n",
       "<style scoped>\n",
       "    .dataframe tbody tr th:only-of-type {\n",
       "        vertical-align: middle;\n",
       "    }\n",
       "\n",
       "    .dataframe tbody tr th {\n",
       "        vertical-align: top;\n",
       "    }\n",
       "\n",
       "    .dataframe thead th {\n",
       "        text-align: right;\n",
       "    }\n",
       "</style>\n",
       "<table border=\"1\" class=\"dataframe\">\n",
       "  <thead>\n",
       "    <tr style=\"text-align: right;\">\n",
       "      <th>prestige</th>\n",
       "      <th>best</th>\n",
       "      <th>good</th>\n",
       "      <th>ok</th>\n",
       "      <th>veryGood</th>\n",
       "    </tr>\n",
       "    <tr>\n",
       "      <th>admit</th>\n",
       "      <th></th>\n",
       "      <th></th>\n",
       "      <th></th>\n",
       "      <th></th>\n",
       "    </tr>\n",
       "  </thead>\n",
       "  <tbody>\n",
       "    <tr>\n",
       "      <th>0</th>\n",
       "      <td>588.0</td>\n",
       "      <td>567.500000</td>\n",
       "      <td>567.234043</td>\n",
       "      <td>582.647059</td>\n",
       "    </tr>\n",
       "    <tr>\n",
       "      <th>1</th>\n",
       "      <td>646.4</td>\n",
       "      <td>633.684211</td>\n",
       "      <td>606.666667</td>\n",
       "      <td>623.589744</td>\n",
       "    </tr>\n",
       "  </tbody>\n",
       "</table>\n",
       "</div>"
      ],
      "text/plain": [
       "prestige   best        good          ok    veryGood\n",
       "admit                                              \n",
       "0         588.0  567.500000  567.234043  582.647059\n",
       "1         646.4  633.684211  606.666667  623.589744"
      ]
     },
     "execution_count": 62,
     "metadata": {},
     "output_type": "execute_result"
    }
   ],
   "source": [
    "# Mean GRE scores of different admits along with their prestige\n",
    "\n",
    "data.pivot_table('gre', index='admit', columns='prestige')"
   ]
  },
  {
   "cell_type": "code",
   "execution_count": 73,
   "metadata": {},
   "outputs": [
    {
     "data": {
      "image/png": "[encoded data removed]",
      "text/plain": [
       "<Figure size 1152x360 with 1 Axes>"
      ]
     },
     "metadata": {},
     "output_type": "display_data"
    }
   ],
   "source": [
    "pd.crosstab( data['gre'], data['admit'].astype(bool)).plot(kind='bar', figsize=(16,5))\n",
    "plt.title('Bar Graph of GRE scores with Admit', size=14)\n",
    "plt.xlabel('GRE score', size=14)\n",
    "plt.ylabel('Count', size=14)\n",
    "plt.show()"
   ]
  },
  {
   "cell_type": "code",
   "execution_count": 78,
   "metadata": {},
   "outputs": [
    {
     "data": {
      "image/png": "[encoded data removed]",
      "text/plain": [
       "<Figure size 1152x360 with 1 Axes>"
      ]
     },
     "metadata": {},
     "output_type": "display_data"
    }
   ],
   "source": [
    "pd.crosstab( data['gpa'], data['admit'].astype(bool)).plot(kind='bar', figsize=(16,5))\n",
    "plt.title('Bar Graph of GPA scores with Admit', size=14)\n",
    "plt.xlabel('GPA score', size=14)\n",
    "plt.ylabel('Count', size=14)\n",
    "plt.show()"
   ]
  },
  {
   "cell_type": "code",
   "execution_count": 79,
   "metadata": {},
   "outputs": [
    {
     "data": {
      "image/png": "[encoded data removed]",
      "text/plain": [
       "<Figure size 1152x360 with 1 Axes>"
      ]
     },
     "metadata": {},
     "output_type": "display_data"
    }
   ],
   "source": [
    "pd.crosstab( data['prestige'], data['admit'].astype(bool)).plot(kind='bar', figsize=(16,5))\n",
    "plt.title('Bar Graph of Prestige with Admit', size=14)\n",
    "plt.xlabel('Prestige score', size=14)\n",
    "plt.ylabel('Count', size=14)\n",
    "plt.show()"
   ]
  },
  {
   "cell_type": "code",
   "execution_count": 256,
   "metadata": {},
   "outputs": [
    {
     "data": {
      "text/html": [
       "<div>\n",
       "<style scoped>\n",
       "    .dataframe tbody tr th:only-of-type {\n",
       "        vertical-align: middle;\n",
       "    }\n",
       "\n",
       "    .dataframe tbody tr th {\n",
       "        vertical-align: top;\n",
       "    }\n",
       "\n",
       "    .dataframe thead th {\n",
       "        text-align: right;\n",
       "    }\n",
       "</style>\n",
       "<table border=\"1\" class=\"dataframe\">\n",
       "  <thead>\n",
       "    <tr style=\"text-align: right;\">\n",
       "      <th></th>\n",
       "      <th>gre</th>\n",
       "      <th>gpa</th>\n",
       "    </tr>\n",
       "    <tr>\n",
       "      <th>prestige</th>\n",
       "      <th></th>\n",
       "      <th></th>\n",
       "    </tr>\n",
       "  </thead>\n",
       "  <tbody>\n",
       "    <tr>\n",
       "      <th>best</th>\n",
       "      <td>620.444444</td>\n",
       "      <td>3.480889</td>\n",
       "    </tr>\n",
       "    <tr>\n",
       "      <th>veryGood</th>\n",
       "      <td>597.570093</td>\n",
       "      <td>3.337944</td>\n",
       "    </tr>\n",
       "    <tr>\n",
       "      <th>good</th>\n",
       "      <td>581.318681</td>\n",
       "      <td>3.447692</td>\n",
       "    </tr>\n",
       "    <tr>\n",
       "      <th>ok</th>\n",
       "      <td>573.571429</td>\n",
       "      <td>3.298571</td>\n",
       "    </tr>\n",
       "  </tbody>\n",
       "</table>\n",
       "</div>"
      ],
      "text/plain": [
       "                 gre       gpa\n",
       "prestige                      \n",
       "best      620.444444  3.480889\n",
       "veryGood  597.570093  3.337944\n",
       "good      581.318681  3.447692\n",
       "ok        573.571429  3.298571"
      ]
     },
     "execution_count": 256,
     "metadata": {},
     "output_type": "execute_result"
    }
   ],
   "source": [
    "# Mean GRE and GPA scores of different Prestige\n",
    "\n",
    "temp = data.groupby([\"prestige\"]).mean().sort_values(\"gre\", ascending=False)\n",
    "temp[['gre', 'gpa']]"
   ]
  },
  {
   "cell_type": "code",
   "execution_count": 80,
   "metadata": {},
   "outputs": [
    {
     "data": {
      "image/png": "[encoded data removed]",
      "text/plain": [
       "<Figure size 1080x504 with 1 Axes>"
      ]
     },
     "metadata": {},
     "output_type": "display_data"
    }
   ],
   "source": [
    "import seaborn as sns\n",
    "import matplotlib.pyplot as plt\n",
    "\n",
    "sns.set_style('whitegrid')\n",
    "plt.figure( figsize=(15,7) )\n",
    "ax = sns.boxplot(x=\"admit\", y=\"gpa\", data=data, linewidth=1.5)\n",
    "plt.title('Box Plot of GPA scores', size=14)\n",
    "plt.xlabel('Admit 0/1', size=14)\n",
    "plt.ylabel('GPA', size=14)\n",
    "\n",
    "plt.show()"
   ]
  },
  {
   "cell_type": "code",
   "execution_count": 23,
   "metadata": {},
   "outputs": [
    {
     "data": {
      "image/png": "[encoded data removed]",
      "text/plain": [
       "<Figure size 1080x504 with 1 Axes>"
      ]
     },
     "metadata": {},
     "output_type": "display_data"
    }
   ],
   "source": [
    "import seaborn as sns\n",
    "import matplotlib.pyplot as plt\n",
    "\n",
    "sns.set_style('whitegrid')\n",
    "plt.figure( figsize=(15,7) )\n",
    "ax = sns.boxplot(x=\"admit\", y=\"gre\", data=data, linewidth=1.5)\n",
    "plt.title('Box Plot of GRE scores', size=14)\n",
    "plt.xlabel('Admit 0/1', size=14)\n",
    "plt.ylabel('GRE', size=14)\n",
    "\n",
    "plt.show()"
   ]
  },
  {
   "cell_type": "code",
   "execution_count": null,
   "metadata": {},
   "outputs": [],
   "source": []
  },
  {
   "cell_type": "markdown",
   "metadata": {},
   "source": [
    "### 4. Build a prediction model using logistic regression algorithm to predict if the applicant will get admission or not"
   ]
  },
  {
   "cell_type": "code",
   "execution_count": 194,
   "metadata": {},
   "outputs": [
    {
     "name": "stdout",
     "output_type": "stream",
     "text": [
      "(299, 3)\n",
      "(299,)\n"
     ]
    }
   ],
   "source": [
    "y = data['admit']\n",
    "x = data.drop(['admit'], axis=1)\n",
    "\n",
    "print(x.shape)\n",
    "print(y.shape)"
   ]
  },
  {
   "cell_type": "code",
   "execution_count": 199,
   "metadata": {},
   "outputs": [
    {
     "name": "stdout",
     "output_type": "stream",
     "text": [
      "(200, 3)\n",
      "(99, 3)\n"
     ]
    }
   ],
   "source": [
    "# Spliting into Test and Train Data\n",
    "\n",
    "from sklearn.model_selection import train_test_split\n",
    "\n",
    "xtr, xte, ytr, yte = train_test_split( x, y, test_size = 0.33, stratify = y) \n",
    "\n",
    "print(xtr.shape)\n",
    "print(xte.shape)"
   ]
  },
  {
   "cell_type": "code",
   "execution_count": 200,
   "metadata": {},
   "outputs": [
    {
     "name": "stdout",
     "output_type": "stream",
     "text": [
      "0    138\n",
      "1     62\n",
      "Name: admit, dtype: int64\n",
      "0    69\n",
      "1    30\n",
      "Name: admit, dtype: int64\n"
     ]
    }
   ],
   "source": [
    "# We have a Unbalanced class/ target our initial model may be biased\n",
    "\n",
    "print( ytr.value_counts() )\n",
    "print( yte.value_counts() )"
   ]
  },
  {
   "cell_type": "code",
   "execution_count": 201,
   "metadata": {},
   "outputs": [
    {
     "name": "stdout",
     "output_type": "stream",
     "text": [
      "(200, 4)\n",
      "(99, 4)\n"
     ]
    }
   ],
   "source": [
    "# Encoding Categorical Features \n",
    "\n",
    "from sklearn.feature_extraction.text import CountVectorizer\n",
    "vectorizer = CountVectorizer()\n",
    "\n",
    "vectorizer.fit( xtr['prestige'].values )\n",
    "\n",
    "xtrPres = vectorizer.transform( xtr['prestige'].values )\n",
    "xtePres = vectorizer.transform( xte['prestige'].values )\n",
    "\n",
    "print( xtrPres.shape )\n",
    "print( xtePres.shape )"
   ]
  },
  {
   "cell_type": "code",
   "execution_count": 202,
   "metadata": {},
   "outputs": [
    {
     "data": {
      "text/plain": [
       "['best', 'good', 'ok', 'verygood']"
      ]
     },
     "execution_count": 202,
     "metadata": {},
     "output_type": "execute_result"
    }
   ],
   "source": [
    "vectorizer.get_feature_names()"
   ]
  },
  {
   "cell_type": "code",
   "execution_count": 206,
   "metadata": {},
   "outputs": [
    {
     "data": {
      "text/plain": [
       "array(<1x4 sparse matrix of type '<class 'numpy.int64'>'\n",
       "\twith 1 stored elements in Compressed Sparse Row format>, dtype=object)"
      ]
     },
     "execution_count": 206,
     "metadata": {},
     "output_type": "execute_result"
    }
   ],
   "source": [
    "import numpy as np\n",
    "np.array(xtrPres[0])"
   ]
  },
  {
   "cell_type": "code",
   "execution_count": 239,
   "metadata": {},
   "outputs": [
    {
     "name": "stdout",
     "output_type": "stream",
     "text": [
      "(200, 1)\n",
      "(99, 1)\n"
     ]
    }
   ],
   "source": [
    "# Scaling Numerical Features \n",
    "\n",
    "from sklearn.preprocessing import StandardScaler\n",
    "\n",
    "scaler = StandardScaler()\n",
    "\n",
    "scaler.fit( xtr['gre'].values.reshape(-1, 1) )\n",
    "xtrGRE = scaler.transform( xtr['gre'].values.reshape(-1, 1) )\n",
    "xteGRE = scaler.transform( xte['gre'].values.reshape(-1, 1) )\n",
    "\n",
    "print( xtrGRE.shape )\n",
    "print( xteGRE.shape )"
   ]
  },
  {
   "cell_type": "code",
   "execution_count": 240,
   "metadata": {},
   "outputs": [
    {
     "name": "stdout",
     "output_type": "stream",
     "text": [
      "[[ 1.75957687]\n",
      " [ 0.07738101]\n",
      " [ 0.91847894]\n",
      " [-0.76371692]\n",
      " [ 0.07738101]]\n",
      "[800 600 700 500 600]\n"
     ]
    }
   ],
   "source": [
    "print( xtrGRE[:5] )\n",
    "print( xtr['gre'][:5].values )"
   ]
  },
  {
   "cell_type": "code",
   "execution_count": 241,
   "metadata": {},
   "outputs": [
    {
     "name": "stdout",
     "output_type": "stream",
     "text": [
      "(200, 1)\n",
      "(99, 1)\n"
     ]
    }
   ],
   "source": [
    "# Scaling Numerical Features \n",
    "\n",
    "scaler = StandardScaler()\n",
    "\n",
    "scaler.fit( xtr['gpa'].values.reshape(-1, 1) )\n",
    "xtrGPA = scaler.transform( xtr['gpa'].values.reshape(-1, 1) )\n",
    "xteGPA = scaler.transform( xte['gpa'].values.reshape(-1, 1) )\n",
    "\n",
    "print( xtrGPA.shape )\n",
    "print( xteGPA.shape )"
   ]
  },
  {
   "cell_type": "code",
   "execution_count": 242,
   "metadata": {},
   "outputs": [
    {
     "name": "stdout",
     "output_type": "stream",
     "text": [
      "[[ 1.31105255]\n",
      " [ 0.58276227]\n",
      " [ 1.12897998]\n",
      " [-1.78418112]\n",
      " [ 0.37467934]]\n",
      "[3.9  3.62 3.83 2.71 3.54]\n"
     ]
    }
   ],
   "source": [
    "print( xtrGPA[:5] )\n",
    "print( xtr['gpa'][:5].values )"
   ]
  },
  {
   "cell_type": "code",
   "execution_count": 243,
   "metadata": {},
   "outputs": [
    {
     "name": "stdout",
     "output_type": "stream",
     "text": [
      "(200, 6) (200,)\n",
      "(99, 6) (99,)\n"
     ]
    }
   ],
   "source": [
    "# Merging the data together after Processing\n",
    "\n",
    "from scipy.sparse import hstack\n",
    "\n",
    "xtr1 = hstack(( xtrGRE, xtrGPA, xtrPres )).tocsr()\n",
    "xte1 = hstack(( xteGRE, xteGPA, xtePres )).tocsr()\n",
    "\n",
    "print( xtr1.shape, ytr.shape )\n",
    "print( xte1.shape, yte.shape )"
   ]
  },
  {
   "cell_type": "code",
   "execution_count": 249,
   "metadata": {},
   "outputs": [
    {
     "name": "stdout",
     "output_type": "stream",
     "text": [
      "Best parameters : {'C': 10}\n",
      "\n",
      "Grid scores :\n",
      "\n",
      "0.000 (+/-0.000) for {'C': 1e-05}\n",
      "0.000 (+/-0.000) for {'C': 0.0001}\n",
      "0.000 (+/-0.000) for {'C': 0.001}\n",
      "0.000 (+/-0.000) for {'C': 0.01}\n",
      "0.194 (+/-0.372) for {'C': 0.1}\n",
      "0.345 (+/-0.340) for {'C': 1}\n",
      "0.367 (+/-0.335) for {'C': 10}\n",
      "0.367 (+/-0.335) for {'C': 100}\n",
      "0.367 (+/-0.335) for {'C': 1000}\n",
      "\n"
     ]
    }
   ],
   "source": [
    "# Doing Hyperparameter Tuning and CV using GridSearchCV()\n",
    "\n",
    "from sklearn.linear_model import LogisticRegression\n",
    "from sklearn.metrics import confusion_matrix, classification_report \n",
    "from sklearn.model_selection import GridSearchCV\n",
    "\n",
    "\n",
    "tuned_parameters = [{'C':[ 10**-5, 10**-4, 10**-3, 10**-2, 0.1, 1, 10, 100, 1000 ]  }]\n",
    "\n",
    "\n",
    "clf = GridSearchCV( LogisticRegression(), tuned_parameters, cv=15, scoring='f1', n_jobs = -1)\n",
    "clf.fit(xtr1, ytr)\n",
    "\n",
    "print(\"Best parameters :\",clf.best_params_)\n",
    "print(\"\\nGrid scores :\")\n",
    "print()\n",
    "\n",
    "means = clf.cv_results_['mean_test_score']\n",
    "stds = clf.cv_results_['std_test_score']\n",
    "\n",
    "for mean, std, params in zip( means, stds, clf.cv_results_['params'] ):\n",
    "    print(\"%0.3f (+/-%0.03f) for %r\" % (mean, std * 2, params))\n",
    "print()"
   ]
  },
  {
   "cell_type": "code",
   "execution_count": 245,
   "metadata": {},
   "outputs": [
    {
     "name": "stdout",
     "output_type": "stream",
     "text": [
      "                 precision    recall  f1-score   support\n",
      "\n",
      "Not Accepted =>       0.75      0.94      0.83        69\n",
      "    Accepted =>       0.67      0.27      0.38        30\n",
      "\n",
      "       accuracy                           0.74        99\n",
      "      macro avg       0.71      0.60      0.61        99\n",
      "   weighted avg       0.72      0.74      0.70        99\n",
      "\n"
     ]
    }
   ],
   "source": [
    "# Finalising the model and checking on Test Data\n",
    "\n",
    "model = LogisticRegression( C = 10 )\n",
    "model.fit(xtr1, ytr)\n",
    "\n",
    "pte = model.predict( xte1 ) \n",
    "ptr = model.predict( xtr1 ) \n",
    "\n",
    "# print classification report \n",
    "print(classification_report( yte, pte, target_names=['Not Accepted =>', 'Accepted =>']) ) "
   ]
  },
  {
   "cell_type": "code",
   "execution_count": 246,
   "metadata": {},
   "outputs": [
    {
     "data": {
      "image/png": "[encoded data removed]",
      "text/plain": [
       "<Figure size 1296x432 with 4 Axes>"
      ]
     },
     "metadata": {},
     "output_type": "display_data"
    }
   ],
   "source": [
    "# Plotting the Confusion Matrix\n",
    "\n",
    "import matplotlib.pyplot as plt\n",
    "import seaborn as sn\n",
    "\n",
    "figure,(ax1,ax2) = plt.subplots(1,2,sharey=True,figsize = (18,6))\n",
    "\n",
    "g1 = sn.heatmap(confusion_matrix( ytr, ptr ), annot=True,annot_kws={\"size\": 16}, cmap='Blues_r', ax=ax1,fmt=\".1f\")# font size\\\n",
    "g1.set_ylabel('True',size=18)\n",
    "g1.set_xlabel('Predicted',size=18)\n",
    "g1.set_title('Train Data',size=18)\n",
    "\n",
    "g2 = sn.heatmap(confusion_matrix( yte, pte ), annot=True,annot_kws={\"size\": 16}, cmap='Blues_r', ax=ax2,fmt=\".1f\")\n",
    "g2.set_title('Test Data',size=18)\n",
    "g2.set_ylabel('True',size=18)\n",
    "g2.set_xlabel('Predicted',size=18)\n",
    "\n",
    "plt.show()"
   ]
  },
  {
   "cell_type": "markdown",
   "metadata": {},
   "source": [
    "As we can see that our model is not performing great and is also biased towards class 0 "
   ]
  },
  {
   "cell_type": "code",
   "execution_count": 252,
   "metadata": {},
   "outputs": [
    {
     "name": "stdout",
     "output_type": "stream",
     "text": [
      "After OverSampling, the shape of xtr: (276, 6)\n",
      "After OverSampling, the shape of ytr: (276,)\n",
      "After OverSampling, counts of label '1': 138\n",
      "After OverSampling, counts of label '0': 138\n"
     ]
    }
   ],
   "source": [
    "# Using SMOTE to create a synthetic balanced test dataset ( Oversampling )\n",
    "\n",
    "from imblearn.over_sampling import SMOTE \n",
    "\n",
    "sm = SMOTE(random_state = 2) \n",
    "\n",
    "xdata, ydata = sm.fit_sample( xtr1, ytr.ravel() ) \n",
    "    \n",
    "print('After OverSampling, the shape of xtr:', xdata.shape) \n",
    "print('After OverSampling, the shape of ytr:', ydata.shape) \n",
    "\n",
    "print(\"After OverSampling, counts of label '1':\", sum(ydata == 1) ) \n",
    "print(\"After OverSampling, counts of label '0':\", sum(ydata == 0) ) "
   ]
  },
  {
   "cell_type": "code",
   "execution_count": 253,
   "metadata": {},
   "outputs": [
    {
     "name": "stdout",
     "output_type": "stream",
     "text": [
      "Best parameters : {'C': 10}\n",
      "\n",
      "Grid scores :\n",
      "\n",
      "0.521 (+/-0.538) for {'C': 1e-05}\n",
      "0.528 (+/-0.545) for {'C': 0.0001}\n",
      "0.644 (+/-0.157) for {'C': 0.001}\n",
      "0.639 (+/-0.166) for {'C': 0.01}\n",
      "0.684 (+/-0.160) for {'C': 0.1}\n",
      "0.699 (+/-0.211) for {'C': 1}\n",
      "0.705 (+/-0.204) for {'C': 10}\n",
      "0.705 (+/-0.204) for {'C': 100}\n",
      "0.705 (+/-0.204) for {'C': 1000}\n",
      "\n"
     ]
    }
   ],
   "source": [
    "# Doing Hyperparameter Tuning and CV using GridSearchCV()\n",
    "\n",
    "tuned_parameters = [{'C':[ 10**-5, 10**-4, 10**-3, 10**-2, 0.1, 1, 10, 100, 1000 ]  }]\n",
    "\n",
    "\n",
    "clf = GridSearchCV( LogisticRegression(), tuned_parameters, cv=15, scoring='f1', n_jobs = -1)\n",
    "clf.fit(xdata, ydata)\n",
    "\n",
    "print(\"Best parameters :\",clf.best_params_)\n",
    "print(\"\\nGrid scores :\")\n",
    "print()\n",
    "\n",
    "means = clf.cv_results_['mean_test_score']\n",
    "stds = clf.cv_results_['std_test_score']\n",
    "\n",
    "for mean, std, params in zip( means, stds, clf.cv_results_['params'] ):\n",
    "    print(\"%0.3f (+/-%0.03f) for %r\" % (mean, std * 2, params))\n",
    "print()"
   ]
  },
  {
   "cell_type": "code",
   "execution_count": 254,
   "metadata": {},
   "outputs": [
    {
     "name": "stdout",
     "output_type": "stream",
     "text": [
      "                 precision    recall  f1-score   support\n",
      "\n",
      "Not Accepted =>       0.77      0.68      0.72        69\n",
      "    Accepted =>       0.42      0.53      0.47        30\n",
      "\n",
      "       accuracy                           0.64        99\n",
      "      macro avg       0.60      0.61      0.60        99\n",
      "   weighted avg       0.66      0.64      0.65        99\n",
      "\n"
     ]
    }
   ],
   "source": [
    "# Finalising the model and checking on Test Data\n",
    "\n",
    "model = LogisticRegression( C = 10 )\n",
    "model.fit(xdata, ydata)\n",
    "\n",
    "pte = model.predict( xte1 ) \n",
    "ptr = model.predict( xdata ) \n",
    "\n",
    "# print classification report \n",
    "print(classification_report( yte, pte, target_names=['Not Accepted =>', 'Accepted =>']) ) "
   ]
  },
  {
   "cell_type": "code",
   "execution_count": 255,
   "metadata": {},
   "outputs": [
    {
     "data": {
      "image/png": "[encoded data removed]",
      "text/plain": [
       "<Figure size 1296x432 with 4 Axes>"
      ]
     },
     "metadata": {},
     "output_type": "display_data"
    }
   ],
   "source": [
    "# Plotting the Confusion Matrix\n",
    "\n",
    "import matplotlib.pyplot as plt\n",
    "import seaborn as sn\n",
    "\n",
    "figure,(ax1,ax2) = plt.subplots(1,2,sharey=True,figsize = (18,6))\n",
    "\n",
    "g1 = sn.heatmap(confusion_matrix( ydata, ptr ), annot=True,annot_kws={\"size\": 16}, cmap='Blues_r', ax=ax1,fmt=\".1f\")# font size\\\n",
    "g1.set_ylabel('True',size=18)\n",
    "g1.set_xlabel('Predicted',size=18)\n",
    "g1.set_title('Train Data',size=18)\n",
    "\n",
    "g2 = sn.heatmap(confusion_matrix( yte, pte ), annot=True,annot_kws={\"size\": 16}, cmap='Blues_r', ax=ax2,fmt=\".1f\")\n",
    "g2.set_title('Test Data',size=18)\n",
    "g2.set_ylabel('True',size=18)\n",
    "g2.set_xlabel('Predicted',size=18)\n",
    "\n",
    "plt.show()"
   ]
  },
  {
   "cell_type": "markdown",
   "metadata": {},
   "source": [
    "We can observe that our model still isn't performing that well\n",
    "\n",
    "But it's not biased now to any one class like it was before\n",
    "\n",
    "With more data this new model will work better as compared to the older one where the model was biased over class 0"
   ]
  },
  {
   "cell_type": "code",
   "execution_count": null,
   "metadata": {},
   "outputs": [],
   "source": []
  }
 ],
 "metadata": {
  "kernelspec": {
   "display_name": "Python 3",
   "language": "python",
   "name": "python3"
  },
  "language_info": {
   "codemirror_mode": {
    "name": "ipython",
    "version": 3
   },
   "file_extension": ".py",
   "mimetype": "text/x-python",
   "name": "python",
   "nbconvert_exporter": "python",
   "pygments_lexer": "ipython3",
   "version": "3.6.10"
  }
 },
 "nbformat": 4,
 "nbformat_minor": 4
}
